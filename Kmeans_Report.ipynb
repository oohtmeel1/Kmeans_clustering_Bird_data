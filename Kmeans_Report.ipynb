{
 "cells": [
  {
   "cell_type": "code",
   "execution_count": 1,
   "metadata": {},
   "outputs": [
    {
     "data": {
      "application/javascript": "(function(root) {\n  function now() {\n    return new Date();\n  }\n\n  var force = true;\n\n  if (typeof root._bokeh_onload_callbacks === \"undefined\" || force === true) {\n    root._bokeh_onload_callbacks = [];\n    root._bokeh_is_loading = undefined;\n  }\n\n  if (typeof (root._bokeh_timeout) === \"undefined\" || force === true) {\n    root._bokeh_timeout = Date.now() + 5000;\n    root._bokeh_failed_load = false;\n  }\n\n  function run_callbacks() {\n    try {\n      root._bokeh_onload_callbacks.forEach(function(callback) {\n        if (callback != null)\n          callback();\n      });\n    } finally {\n      delete root._bokeh_onload_callbacks\n    }\n    console.debug(\"Bokeh: all callbacks have finished\");\n  }\n\n  function load_libs(css_urls, js_urls, js_modules, callback) {\n    if (css_urls == null) css_urls = [];\n    if (js_urls == null) js_urls = [];\n    if (js_modules == null) js_modules = [];\n\n    root._bokeh_onload_callbacks.push(callback);\n    if (root._bokeh_is_loading > 0) {\n      console.debug(\"Bokeh: BokehJS is being loaded, scheduling callback at\", now());\n      return null;\n    }\n    if (js_urls.length === 0 && js_modules.length === 0) {\n      run_callbacks();\n      return null;\n    }\n    console.debug(\"Bokeh: BokehJS not loaded, scheduling load and callback at\", now());\n\n    function on_load() {\n      root._bokeh_is_loading--;\n      if (root._bokeh_is_loading === 0) {\n        console.debug(\"Bokeh: all BokehJS libraries/stylesheets loaded\");\n        run_callbacks()\n      }\n    }\n\n    function on_error() {\n      console.error(\"failed to load \" + url);\n    }\n\n    for (var i = 0; i < css_urls.length; i++) {\n      var url = css_urls[i];\n      const element = document.createElement(\"link\");\n      element.onload = on_load;\n      element.onerror = on_error;\n      element.rel = \"stylesheet\";\n      element.type = \"text/css\";\n      element.href = url;\n      console.debug(\"Bokeh: injecting link tag for BokehJS stylesheet: \", url);\n      document.body.appendChild(element);\n    }\n\n    var skip = [];\n    if (window.requirejs) {\n      window.requirejs.config({'packages': {}, 'paths': {'gridstack': 'https://cdn.jsdelivr.net/npm/gridstack@4.2.5/dist/gridstack-h5', 'notyf': 'https://cdn.jsdelivr.net/npm/notyf@3/notyf.min'}, 'shim': {'gridstack': {'exports': 'GridStack'}}});\n      require([\"gridstack\"], function(GridStack) {\n\twindow.GridStack = GridStack\n\ton_load()\n      })\n      require([\"notyf\"], function() {\n\ton_load()\n      })\n      root._bokeh_is_loading = css_urls.length + 2;\n    } else {\n      root._bokeh_is_loading = css_urls.length + js_urls.length + js_modules.length;\n    }    if (((window['GridStack'] !== undefined) && (!(window['GridStack'] instanceof HTMLElement))) || window.requirejs) {\n      var urls = ['https://cdn.holoviz.org/panel/0.14.4/dist/bundled/gridstack/gridstack@4.2.5/dist/gridstack-h5.js'];\n      for (var i = 0; i < urls.length; i++) {\n        skip.push(urls[i])\n      }\n    }    if (((window['Notyf'] !== undefined) && (!(window['Notyf'] instanceof HTMLElement))) || window.requirejs) {\n      var urls = ['https://cdn.holoviz.org/panel/0.14.4/dist/bundled/notificationarea/notyf@3/notyf.min.js'];\n      for (var i = 0; i < urls.length; i++) {\n        skip.push(urls[i])\n      }\n    }    for (var i = 0; i < js_urls.length; i++) {\n      var url = js_urls[i];\n      if (skip.indexOf(url) >= 0) {\n\tif (!window.requirejs) {\n\t  on_load();\n\t}\n\tcontinue;\n      }\n      var element = document.createElement('script');\n      element.onload = on_load;\n      element.onerror = on_error;\n      element.async = false;\n      element.src = url;\n      console.debug(\"Bokeh: injecting script tag for BokehJS library: \", url);\n      document.head.appendChild(element);\n    }\n    for (var i = 0; i < js_modules.length; i++) {\n      var url = js_modules[i];\n      if (skip.indexOf(url) >= 0) {\n\tif (!window.requirejs) {\n\t  on_load();\n\t}\n\tcontinue;\n      }\n      var element = document.createElement('script');\n      element.onload = on_load;\n      element.onerror = on_error;\n      element.async = false;\n      element.src = url;\n      element.type = \"module\";\n      console.debug(\"Bokeh: injecting script tag for BokehJS library: \", url);\n      document.head.appendChild(element);\n    }\n    if (!js_urls.length && !js_modules.length) {\n      on_load()\n    }\n  };\n\n  function inject_raw_css(css) {\n    const element = document.createElement(\"style\");\n    element.appendChild(document.createTextNode(css));\n    document.body.appendChild(element);\n  }\n\n  var js_urls = [\"https://cdn.bokeh.org/bokeh/release/bokeh-2.4.3.min.js\", \"https://cdn.bokeh.org/bokeh/release/bokeh-gl-2.4.3.min.js\", \"https://cdn.bokeh.org/bokeh/release/bokeh-widgets-2.4.3.min.js\", \"https://cdn.bokeh.org/bokeh/release/bokeh-tables-2.4.3.min.js\", \"https://cdn.bokeh.org/bokeh/release/bokeh-mathjax-2.4.3.min.js\", \"https://unpkg.com/@holoviz/panel@0.14.4/dist/panel.min.js\"];\n  var js_modules = [];\n  var css_urls = [\"https://cdn.holoviz.org/panel/0.14.4/dist/css/alerts.css\", \"https://cdn.holoviz.org/panel/0.14.4/dist/css/card.css\", \"https://cdn.holoviz.org/panel/0.14.4/dist/css/dataframe.css\", \"https://cdn.holoviz.org/panel/0.14.4/dist/css/debugger.css\", \"https://cdn.holoviz.org/panel/0.14.4/dist/css/json.css\", \"https://cdn.holoviz.org/panel/0.14.4/dist/css/loading.css\", \"https://cdn.holoviz.org/panel/0.14.4/dist/css/markdown.css\", \"https://cdn.holoviz.org/panel/0.14.4/dist/css/widgets.css\"];\n  var inline_js = [    function(Bokeh) {\n      inject_raw_css(\"\\n    .bk.pn-loading.arc:before {\\n      background-image: url(\\\"data:image/svg+xml;base64,PHN2ZyB4bWxucz0iaHR0cDovL3d3dy53My5vcmcvMjAwMC9zdmciIHN0eWxlPSJtYXJnaW46IGF1dG87IGJhY2tncm91bmQ6IG5vbmU7IGRpc3BsYXk6IGJsb2NrOyBzaGFwZS1yZW5kZXJpbmc6IGF1dG87IiB2aWV3Qm94PSIwIDAgMTAwIDEwMCIgcHJlc2VydmVBc3BlY3RSYXRpbz0ieE1pZFlNaWQiPiAgPGNpcmNsZSBjeD0iNTAiIGN5PSI1MCIgZmlsbD0ibm9uZSIgc3Ryb2tlPSIjYzNjM2MzIiBzdHJva2Utd2lkdGg9IjEwIiByPSIzNSIgc3Ryb2tlLWRhc2hhcnJheT0iMTY0LjkzMzYxNDMxMzQ2NDE1IDU2Ljk3Nzg3MTQzNzgyMTM4Ij4gICAgPGFuaW1hdGVUcmFuc2Zvcm0gYXR0cmlidXRlTmFtZT0idHJhbnNmb3JtIiB0eXBlPSJyb3RhdGUiIHJlcGVhdENvdW50PSJpbmRlZmluaXRlIiBkdXI9IjFzIiB2YWx1ZXM9IjAgNTAgNTA7MzYwIDUwIDUwIiBrZXlUaW1lcz0iMDsxIj48L2FuaW1hdGVUcmFuc2Zvcm0+ICA8L2NpcmNsZT48L3N2Zz4=\\\");\\n      background-size: auto calc(min(50%, 400px));\\n    }\\n    \");\n    },    function(Bokeh) {\n      Bokeh.set_log_level(\"info\");\n    },\nfunction(Bokeh) {} // ensure no trailing comma for IE\n  ];\n\n  function run_inline_js() {\n    if ((root.Bokeh !== undefined) || (force === true)) {\n      for (var i = 0; i < inline_js.length; i++) {\n        inline_js[i].call(root, root.Bokeh);\n      }} else if (Date.now() < root._bokeh_timeout) {\n      setTimeout(run_inline_js, 100);\n    } else if (!root._bokeh_failed_load) {\n      console.log(\"Bokeh: BokehJS failed to load within specified timeout.\");\n      root._bokeh_failed_load = true;\n    }\n  }\n\n  if (root._bokeh_is_loading === 0) {\n    console.debug(\"Bokeh: BokehJS loaded, going straight to plotting\");\n    run_inline_js();\n  } else {\n    load_libs(css_urls, js_urls, js_modules, function() {\n      console.debug(\"Bokeh: BokehJS plotting callback run at\", now());\n      run_inline_js();\n    });\n  }\n}(window));",
      "application/vnd.holoviews_load.v0+json": ""
     },
     "metadata": {},
     "output_type": "display_data"
    },
    {
     "data": {
      "application/javascript": "\nif ((window.PyViz === undefined) || (window.PyViz instanceof HTMLElement)) {\n  window.PyViz = {comms: {}, comm_status:{}, kernels:{}, receivers: {}, plot_index: []}\n}\n\n\n    function JupyterCommManager() {\n    }\n\n    JupyterCommManager.prototype.register_target = function(plot_id, comm_id, msg_handler) {\n      if (window.comm_manager || ((window.Jupyter !== undefined) && (Jupyter.notebook.kernel != null))) {\n        var comm_manager = window.comm_manager || Jupyter.notebook.kernel.comm_manager;\n        comm_manager.register_target(comm_id, function(comm) {\n          comm.on_msg(msg_handler);\n        });\n      } else if ((plot_id in window.PyViz.kernels) && (window.PyViz.kernels[plot_id])) {\n        window.PyViz.kernels[plot_id].registerCommTarget(comm_id, function(comm) {\n          comm.onMsg = msg_handler;\n        });\n      } else if (typeof google != 'undefined' && google.colab.kernel != null) {\n        google.colab.kernel.comms.registerTarget(comm_id, (comm) => {\n          var messages = comm.messages[Symbol.asyncIterator]();\n          function processIteratorResult(result) {\n            var message = result.value;\n            console.log(message)\n            var content = {data: message.data, comm_id};\n            var buffers = []\n            for (var buffer of message.buffers || []) {\n              buffers.push(new DataView(buffer))\n            }\n            var metadata = message.metadata || {};\n            var msg = {content, buffers, metadata}\n            msg_handler(msg);\n            return messages.next().then(processIteratorResult);\n          }\n          return messages.next().then(processIteratorResult);\n        })\n      }\n    }\n\n    JupyterCommManager.prototype.get_client_comm = function(plot_id, comm_id, msg_handler) {\n      if (comm_id in window.PyViz.comms) {\n        return window.PyViz.comms[comm_id];\n      } else if (window.comm_manager || ((window.Jupyter !== undefined) && (Jupyter.notebook.kernel != null))) {\n        var comm_manager = window.comm_manager || Jupyter.notebook.kernel.comm_manager;\n        var comm = comm_manager.new_comm(comm_id, {}, {}, {}, comm_id);\n        if (msg_handler) {\n          comm.on_msg(msg_handler);\n        }\n      } else if ((plot_id in window.PyViz.kernels) && (window.PyViz.kernels[plot_id])) {\n        var comm = window.PyViz.kernels[plot_id].connectToComm(comm_id);\n        comm.open();\n        if (msg_handler) {\n          comm.onMsg = msg_handler;\n        }\n      } else if (typeof google != 'undefined' && google.colab.kernel != null) {\n        var comm_promise = google.colab.kernel.comms.open(comm_id)\n        comm_promise.then((comm) => {\n          window.PyViz.comms[comm_id] = comm;\n          if (msg_handler) {\n            var messages = comm.messages[Symbol.asyncIterator]();\n            function processIteratorResult(result) {\n              var message = result.value;\n              var content = {data: message.data};\n              var metadata = message.metadata || {comm_id};\n              var msg = {content, metadata}\n              msg_handler(msg);\n              return messages.next().then(processIteratorResult);\n            }\n            return messages.next().then(processIteratorResult);\n          }\n        }) \n        var sendClosure = (data, metadata, buffers, disposeOnDone) => {\n          return comm_promise.then((comm) => {\n            comm.send(data, metadata, buffers, disposeOnDone);\n          });\n        };\n        var comm = {\n          send: sendClosure\n        };\n      }\n      window.PyViz.comms[comm_id] = comm;\n      return comm;\n    }\n    window.PyViz.comm_manager = new JupyterCommManager();\n    \n\n\nvar JS_MIME_TYPE = 'application/javascript';\nvar HTML_MIME_TYPE = 'text/html';\nvar EXEC_MIME_TYPE = 'application/vnd.holoviews_exec.v0+json';\nvar CLASS_NAME = 'output';\n\n/**\n * Render data to the DOM node\n */\nfunction render(props, node) {\n  var div = document.createElement(\"div\");\n  var script = document.createElement(\"script\");\n  node.appendChild(div);\n  node.appendChild(script);\n}\n\n/**\n * Handle when a new output is added\n */\nfunction handle_add_output(event, handle) {\n  var output_area = handle.output_area;\n  var output = handle.output;\n  if ((output.data == undefined) || (!output.data.hasOwnProperty(EXEC_MIME_TYPE))) {\n    return\n  }\n  var id = output.metadata[EXEC_MIME_TYPE][\"id\"];\n  var toinsert = output_area.element.find(\".\" + CLASS_NAME.split(' ')[0]);\n  if (id !== undefined) {\n    var nchildren = toinsert.length;\n    var html_node = toinsert[nchildren-1].children[0];\n    html_node.innerHTML = output.data[HTML_MIME_TYPE];\n    var scripts = [];\n    var nodelist = html_node.querySelectorAll(\"script\");\n    for (var i in nodelist) {\n      if (nodelist.hasOwnProperty(i)) {\n        scripts.push(nodelist[i])\n      }\n    }\n\n    scripts.forEach( function (oldScript) {\n      var newScript = document.createElement(\"script\");\n      var attrs = [];\n      var nodemap = oldScript.attributes;\n      for (var j in nodemap) {\n        if (nodemap.hasOwnProperty(j)) {\n          attrs.push(nodemap[j])\n        }\n      }\n      attrs.forEach(function(attr) { newScript.setAttribute(attr.name, attr.value) });\n      newScript.appendChild(document.createTextNode(oldScript.innerHTML));\n      oldScript.parentNode.replaceChild(newScript, oldScript);\n    });\n    if (JS_MIME_TYPE in output.data) {\n      toinsert[nchildren-1].children[1].textContent = output.data[JS_MIME_TYPE];\n    }\n    output_area._hv_plot_id = id;\n    if ((window.Bokeh !== undefined) && (id in Bokeh.index)) {\n      window.PyViz.plot_index[id] = Bokeh.index[id];\n    } else {\n      window.PyViz.plot_index[id] = null;\n    }\n  } else if (output.metadata[EXEC_MIME_TYPE][\"server_id\"] !== undefined) {\n    var bk_div = document.createElement(\"div\");\n    bk_div.innerHTML = output.data[HTML_MIME_TYPE];\n    var script_attrs = bk_div.children[0].attributes;\n    for (var i = 0; i < script_attrs.length; i++) {\n      toinsert[toinsert.length - 1].childNodes[1].setAttribute(script_attrs[i].name, script_attrs[i].value);\n    }\n    // store reference to server id on output_area\n    output_area._bokeh_server_id = output.metadata[EXEC_MIME_TYPE][\"server_id\"];\n  }\n}\n\n/**\n * Handle when an output is cleared or removed\n */\nfunction handle_clear_output(event, handle) {\n  var id = handle.cell.output_area._hv_plot_id;\n  var server_id = handle.cell.output_area._bokeh_server_id;\n  if (((id === undefined) || !(id in PyViz.plot_index)) && (server_id !== undefined)) { return; }\n  var comm = window.PyViz.comm_manager.get_client_comm(\"hv-extension-comm\", \"hv-extension-comm\", function () {});\n  if (server_id !== null) {\n    comm.send({event_type: 'server_delete', 'id': server_id});\n    return;\n  } else if (comm !== null) {\n    comm.send({event_type: 'delete', 'id': id});\n  }\n  delete PyViz.plot_index[id];\n  if ((window.Bokeh !== undefined) & (id in window.Bokeh.index)) {\n    var doc = window.Bokeh.index[id].model.document\n    doc.clear();\n    const i = window.Bokeh.documents.indexOf(doc);\n    if (i > -1) {\n      window.Bokeh.documents.splice(i, 1);\n    }\n  }\n}\n\n/**\n * Handle kernel restart event\n */\nfunction handle_kernel_cleanup(event, handle) {\n  delete PyViz.comms[\"hv-extension-comm\"];\n  window.PyViz.plot_index = {}\n}\n\n/**\n * Handle update_display_data messages\n */\nfunction handle_update_output(event, handle) {\n  handle_clear_output(event, {cell: {output_area: handle.output_area}})\n  handle_add_output(event, handle)\n}\n\nfunction register_renderer(events, OutputArea) {\n  function append_mime(data, metadata, element) {\n    // create a DOM node to render to\n    var toinsert = this.create_output_subarea(\n    metadata,\n    CLASS_NAME,\n    EXEC_MIME_TYPE\n    );\n    this.keyboard_manager.register_events(toinsert);\n    // Render to node\n    var props = {data: data, metadata: metadata[EXEC_MIME_TYPE]};\n    render(props, toinsert[0]);\n    element.append(toinsert);\n    return toinsert\n  }\n\n  events.on('output_added.OutputArea', handle_add_output);\n  events.on('output_updated.OutputArea', handle_update_output);\n  events.on('clear_output.CodeCell', handle_clear_output);\n  events.on('delete.Cell', handle_clear_output);\n  events.on('kernel_ready.Kernel', handle_kernel_cleanup);\n\n  OutputArea.prototype.register_mime_type(EXEC_MIME_TYPE, append_mime, {\n    safe: true,\n    index: 0\n  });\n}\n\nif (window.Jupyter !== undefined) {\n  try {\n    var events = require('base/js/events');\n    var OutputArea = require('notebook/js/outputarea').OutputArea;\n    if (OutputArea.prototype.mime_types().indexOf(EXEC_MIME_TYPE) == -1) {\n      register_renderer(events, OutputArea);\n    }\n  } catch(err) {\n  }\n}\n",
      "application/vnd.holoviews_load.v0+json": ""
     },
     "metadata": {},
     "output_type": "display_data"
    },
    {
     "data": {
      "text/html": [
       "<style>.bk-root, .bk-root .bk:before, .bk-root .bk:after {\n",
       "  font-family: var(--jp-ui-font-size1);\n",
       "  font-size: var(--jp-ui-font-size1);\n",
       "  color: var(--jp-ui-font-color1);\n",
       "}\n",
       "</style>"
      ]
     },
     "metadata": {},
     "output_type": "display_data"
    }
   ],
   "source": [
    "import pandas as pd\n",
    "import numpy as np\n",
    "import matplotlib.pyplot as plt\n",
    "import seaborn as sns\n",
    "from kneed import KneeLocator\n",
    "from sklearn.cluster import KMeans\n",
    "from sklearn.decomposition import PCA\n",
    "from sklearn.metrics import silhouette_score, adjusted_rand_score\n",
    "from sklearn.pipeline import Pipeline\n",
    "from sklearn.preprocessing import LabelEncoder, MinMaxScaler\n",
    "from sklearn.preprocessing import StandardScaler\n",
    "from sklearn.preprocessing import MaxAbsScaler\n",
    "import matplotlib.pyplot as plt\n",
    "import matplotlib.colors as mcolors\n",
    "from sklearn.preprocessing import KernelCenterer\n",
    "from sklearn.metrics.pairwise import pairwise_kernels\n",
    "from sklearn.preprocessing import Normalizer\n",
    "from sklearn.preprocessing import OneHotEncoder\n",
    "from sklearn.decomposition import KernelPCA\n",
    "from sklearn.preprocessing import RobustScaler\n",
    "from sklearn.decomposition import MiniBatchSparsePCA\n",
    "from sklearn.decomposition import SparsePCA\n",
    "from sklearn.decomposition import SparseCoder\n",
    "from sklearn.cluster import DBSCAN\n",
    "from sklearn.cluster import AgglomerativeClustering\n",
    "from sklearn.model_selection import train_test_split\n",
    "from sklearn.metrics import pairwise_distances_argmin\n",
    "from sklearn.metrics import confusion_matrix\n",
    "from sklearn.metrics import accuracy_score\n",
    "from sklearn.cluster import AffinityPropagation\n",
    "from markdown import markdown\n",
    "import numpy as np\n",
    "import hvplot.pandas\n",
    "import pandas as pd\n",
    "\n",
    "\n",
    "\n"
   ]
  },
  {
   "cell_type": "markdown",
   "metadata": {},
   "source": [
    "### Analysis of Birds bones and living habits data set\n",
    "## An attempt at species categorization using sklearn Kmeans Unsupervised learning.\n",
    "https://www.kaggle.com/datasets/zhangjuefei/birds-bones-and-living-habits\n",
    "\n",
    "\n",
    "https://scikit-learn.org/stable/modules/clustering.html#k-means\n",
    "\n",
    "\n",
    "https://github.com/oohtmeel1/Unsup2 < Project Repo>\n",
    "\n",
    "\n",
    "\n",
    "![Pidgeon Skeleton](https://s-media-cache-ak0.pinimg.com/564x/cb/cb/41/cbcb41cb2c1db6c32c1e869be2172c3b.jpg) Image courtesy of kaggle\n",
    "\n",
    "\n",
    "\n",
    "\n",
    "\n",
    "Species identification is an important part of conservation efforts. This project attempts to use the Birds bones and living habits data set to label species based on skeletal features.The idea is that birds skeletal structure should be varied enough to allow for easy and simple identification. \n",
    "The data labels are:\n",
    "\n",
    "\n",
    "<b>*SW* :Swimming \\\n",
    "*W*  :Wading \\\n",
    "*T*  :Terrestrial \\\n",
    "*R*  :Raptors \\\n",
    "*P*  :Scansorial_birds \\\n",
    "*SO* :Singing Birds </b>\n",
    "\n",
    "These will be how the data is clustered. No two bird species are exactly alike, so given enough data points are provided this should work. "
   ]
  },
  {
   "cell_type": "markdown",
   "metadata": {},
   "source": [
    "Since the data set seemed very distinct (An emu is much larger than say a chicken) K means felt like a very good choice. The basic idea here is: K centroids will be chosen, the model will be fit and when the centroids stop moving is when we are done. Even though K means is supposed to be non-deterministic, more often than not a pidgeon and emu should not be clustered together. \n"
   ]
  },
  {
   "cell_type": "markdown",
   "metadata": {},
   "source": [
    "After the data was read in, the next step was to take a look. Right away it can be noted that the ID column should\n",
    "be dropped, it serves no purpose. \n",
    "\n",
    "\n",
    "|    |   id |   huml |   humw |   ulnal |   ulnaw |   feml |   femw |   tibl |   tibw |   tarl |   tarw | type   |\n",
    "|---:|-----:|-------:|-------:|--------:|--------:|-------:|-------:|-------:|-------:|-------:|-------:|:-------|\n",
    "|  0 |    0 |  80.78 |   6.68 |   72.01 |    4.88 |  41.81 |   3.7  |   5.5  |   4.03 |  38.7  |   3.84 | SW     |\n",
    "|  1 |    1 |  88.91 |   6.63 |   80.53 |    5.59 |  47.04 |   4.3  |  80.22 |   4.51 |  41.5  |   4.01 | SW     |\n",
    "|  2 |    2 |  79.97 |   6.37 |   69.26 |    5.28 |  43.07 |   3.9  |  75.35 |   4.04 |  38.31 |   3.34 | SW     |\n",
    "|  3 |    3 |  77.65 |   5.7  |   65.76 |    4.77 |  40.04 |   3.52 |  69.17 |   3.4  |  35.78 |   3.41 | SW     |\n",
    "|  4 |    4 |  62.8  |   4.84 |   52.09 |    3.73 |  33.95 |   2.72 |  56.27 |   2.96 |  31.88 |   3.13 | SW     |\n",
    "\n",
    "The shape of the df is (420, 12). After na values are dropped this further reduces to (413,12).\n",
    "\n",
    "\n",
    "The data is then split into two pieces, the labels (Type) in one df.\n",
    "\n",
    "\n",
    "|    | type   |     \n",
    "|---:|:-------|\n",
    "|  0 | SW     |\n",
    "|  1 | SW     |\n",
    "|  2 | SW     |\n",
    "|  3 | SW     |\n",
    "|  4 | SW     |\n",
    "\n",
    "\n",
    "\n",
    "\n",
    "\n",
    "\n",
    "\n",
    "and all of the other pieces of relevant data into another. We would not want the model to know the answers.\n",
    "\n",
    "\n",
    "|    |   huml |   humw |   ulnal |   ulnaw |   feml |   femw |   tibl |   tibw |   tarl |   tarw |\n",
    "|---:|-------:|-------:|--------:|--------:|-------:|-------:|-------:|-------:|-------:|-------:|\n",
    "|  0 |  80.78 |   6.68 |   72.01 |    4.88 |  41.81 |   3.7  |   5.5  |   4.03 |  38.7  |   3.84 |\n",
    "|  1 |  88.91 |   6.63 |   80.53 |    5.59 |  47.04 |   4.3  |  80.22 |   4.51 |  41.5  |   4.01 |\n",
    "\n",
    "\n",
    "\n",
    "Then a pair plot was loaded. "
   ]
  },
  {
   "cell_type": "markdown",
   "metadata": {},
   "source": [
    "![alt text](Pair_plot_all.png \"Pair plot of everything\")"
   ]
  },
  {
   "cell_type": "markdown",
   "metadata": {},
   "source": [
    "The above pair plot shows a lot of covariance and maybe coliniearity. Which makes some sense, if a bird has big hip bones it probably has big leg bones too. But this might not be so great for training a model, and we might want to exclude some of those features.  So far the variables 'huml','humw', 'ulnal','ulnaw', 'tarl' look the most promising being more randomly scattered than say 'femw'. But we should look at a few more pieces of evidence before we fully decide to drop or keep certain variables."
   ]
  },
  {
   "cell_type": "markdown",
   "metadata": {},
   "source": [
    "## Box plots to check for outliers\n",
    "\n",
    "Box plots were plotted against certain features for simple and straightforward outlier detection. And it is very obvious that there are outliers. And they will be removed so they do not skew the data too much.\n",
    "\n",
    "![alt text](Box_plot_To_check_for_outliers.png \"Box plot to check for outliers\")"
   ]
  },
  {
   "cell_type": "markdown",
   "metadata": {},
   "source": [
    "Now that the data is a little bit more cleaned up. I will plot a correlation matrix, which pairs well with the pair plot above. It helps show what variables are highly correlated and how strong that relationship is. Correlation is how closely related certain variables are. There are only a few variables that do not have very strong relationships. Humerus length, Humerus Width, Ulnal length and width and tarsal length all have low correlation values. The Covariance matrix also has values that are very high and shows a definite need for some feature selection. \n",
    "\n",
    "\n",
    "![alt text](Correlation_Matrix_before_choosing.png \"Pair plot of everything\")\n",
    "\n",
    "\n",
    "\n",
    "\n",
    "![alt text](Covariance_Matrix_before_choosing_(2).png)"
   ]
  },
  {
   "cell_type": "markdown",
   "metadata": {},
   "source": [
    "To help illustrate the point further, at least a little bit. I ran an analysis on the full data set using the clustering algorithm and have the generated results. \n",
    "There are two variables in table below. One is silhouette score or the silhouette coefficient. Which ranges from -1 to 1, 1 being the best value and -1 being the worst.\n",
    "It is the mean distance between clusters, and the mean distance to the nearest cluster that is not part of that samples cluster. Given by the formula:\n",
    "\n",
    "\n",
    "\\begin{pmatrix}\n",
    "   b - a\\\\ \\hline\n",
    "   max(a,b)\n",
    "\\end{pmatrix}  \n",
    "\n",
    "\n",
    "<h5 align=\"center\">a = intra cluster distance </h5> \n",
    "<h5 align=\"center\">b = mean nearest intracluster distance</h5>\n",
    "\n",
    "\n",
    "|    |    silhouette_score |   rand_score |\n",
    "|---:|---------:|-------------:|\n",
    "|  0 | 0.374319 |     0.239816 |\n",
    "\n",
    "\n",
    "\n",
    "And since I have the ground truth, which are my labels (the bird types) I can run a metric called the adjusted Rand Index. Which uses the actual cluster assignment to provide the score. It is a pairwise measure which computes the number of same or different clusters in the predicted and true clusterings. \n",
    "A value of 0.0 means the labels are random independent of the cluster amounts and 1.0 when the clusters are completely identical. So a 1 is good and 0 is not as good.\n",
    "\n",
    "Rand_score_Calculation : <b>ARI = (RI - Expected_RI) / (max(RI) - Expected_RI)</b> ** thanks scikit learn \n",
    "\n",
    "And the obtained result is not that great.Removing some features might help.\n",
    "\n",
    "Only a few features were selected.And they had a pair plot generated. \n",
    "\n",
    "It is very clearly visible that the data looks much more scattered, which might be a good sign. Time to move onto the next part.\n",
    "\n",
    "\n",
    "\n",
    "![alt text](Pair_plot_reduced.png \"pair plot of just a few features\")"
   ]
  },
  {
   "cell_type": "markdown",
   "metadata": {},
   "source": [
    "### Pre Processor Selection\n",
    "\n",
    "To scale or not to scale? One of life's big questions if you need to proccess data. \n",
    "A great way to tell is by looking at the covariance matrix.\n",
    "\n",
    " Which measures the extent to which two variables er vary together.\n",
    " And the values in this matrix are very high.\n",
    "\n",
    "\n",
    "![alt text](Covariance_Matrix_to_show_need_scaling.png \"pair plot of just a few features\")\n",
    "![alt text](Correlation_Matrix_before_scaling_but_after_feature_selection.png)\n",
    "\n",
    "\n",
    "I had several preprocessors to choose from. \n",
    "\n",
    "![alt text](For_final_project_unsupervised.jpg \"selection of features\")\n",
    "\n",
    "- Standard Scaler - Sets the mean to 0 and variance to 1.\n",
    "\n",
    "- MinMiaxScaler - Transforms features by scaling to a given range.\n",
    "\n",
    "- MaxAbsScaler - Scales Each feature by maximum abosulte value.\n",
    "\n",
    "- RobustScaler- Removes means and scales each to a Quantile range.\n",
    "\n",
    "- Normalizer - Scales inputs individually to length of data.\n",
    "\n",
    "\n",
    "So I ran all of these against my data set and their silhouette scores are below. \n",
    "\n",
    "\n",
    "![alt text](Selection_preprocessor_results.png)\n",
    "\n",
    "The silhouette score improved a fair amount from the base model. The adjusted rand score improved only slightly.\n",
    "And the thing about Kmeans is the results will vary slightly every time. \n",
    "When I plotted the results for each pre processing step:\n",
    "\n",
    "<b> Standard Scaler </b>\n",
    "\n",
    "![alt text](Standard_Scaler_pre_processing.png)\n",
    "\n",
    "<b> MinMax Scaler </b>\n",
    "\n",
    "![alt text](MinMax_Scaler_pre_processing.png)\n",
    "\n",
    "<b> MaxABS Scaler </b>\n",
    "\n",
    "\n",
    "![alt text](MaxABS_Scaler_pre_processing.png)\n",
    "\n",
    "<b> Robust Scaler </b>\n",
    "\n",
    "\n",
    "![alt text](Robust_Scaler_pre_processing.png)\n",
    "\n",
    "\n",
    "The below covariance matrix helps highlight this.\n",
    "\n",
    "![alt text](Covariance_matrix_after_scaling.png)\n",
    "\n",
    "\n",
    "\n",
    "\n",
    "Each type of pre processor led to a similiar improvement no matter the choices. I wanted to see if another second preprocessor would help improve them further.\n",
    "\n",
    "I chose Kernel PCA and PCA.\n",
    "- Kernel PCA uses kernels for dimensionality reduction.\n",
    "\n",
    "- PCA projects data onto a lower dimensional space.\n",
    "\n",
    "\n",
    "<b> PCA Results </b>\n",
    "\n",
    "\n",
    "![alt text](Regular_PCA.png)\n",
    "\n",
    "\n",
    "<b> KernelPCA </b>\n",
    "\n",
    "![alt text](KernelPCA.png)\n",
    "\n",
    "I also ran different kernel types, rbf, linear and cosine. And the results were fairly similiar accross the board."
   ]
  },
  {
   "cell_type": "code",
   "execution_count": 2,
   "metadata": {},
   "outputs": [],
   "source": [
    "data50=pd.read_csv('Data_frame_for_plot_of_kernels')\n"
   ]
  },
  {
   "cell_type": "code",
   "execution_count": 3,
   "metadata": {},
   "outputs": [
    {
     "data": {},
     "metadata": {},
     "output_type": "display_data"
    },
    {
     "data": {
      "application/vnd.holoviews_exec.v0+json": "",
      "text/html": [
       "<div id='1002'>\n",
       "  <div class=\"bk-root\" id=\"e5b73485-1267-4166-b6df-7bbe48e19d93\" data-root-id=\"1002\"></div>\n",
       "</div>\n",
       "<script type=\"application/javascript\">(function(root) {\n",
       "  function embed_document(root) {\n",
       "    var docs_json = {\"43a3bf22-c417-4b5c-a7e6-92cad32aa8c0\":{\"defs\":[{\"extends\":null,\"module\":null,\"name\":\"ReactiveHTML1\",\"overrides\":[],\"properties\":[]},{\"extends\":null,\"module\":null,\"name\":\"FlexBox1\",\"overrides\":[],\"properties\":[{\"default\":\"flex-start\",\"kind\":null,\"name\":\"align_content\"},{\"default\":\"flex-start\",\"kind\":null,\"name\":\"align_items\"},{\"default\":\"row\",\"kind\":null,\"name\":\"flex_direction\"},{\"default\":\"wrap\",\"kind\":null,\"name\":\"flex_wrap\"},{\"default\":\"flex-start\",\"kind\":null,\"name\":\"justify_content\"}]},{\"extends\":null,\"module\":null,\"name\":\"GridStack1\",\"overrides\":[],\"properties\":[{\"default\":\"warn\",\"kind\":null,\"name\":\"mode\"},{\"default\":null,\"kind\":null,\"name\":\"ncols\"},{\"default\":null,\"kind\":null,\"name\":\"nrows\"},{\"default\":true,\"kind\":null,\"name\":\"allow_resize\"},{\"default\":true,\"kind\":null,\"name\":\"allow_drag\"},{\"default\":[],\"kind\":null,\"name\":\"state\"}]},{\"extends\":null,\"module\":null,\"name\":\"click1\",\"overrides\":[],\"properties\":[{\"default\":\"\",\"kind\":null,\"name\":\"terminal_output\"},{\"default\":\"\",\"kind\":null,\"name\":\"debug_name\"},{\"default\":0,\"kind\":null,\"name\":\"clears\"}]},{\"extends\":null,\"module\":null,\"name\":\"NotificationAreaBase1\",\"overrides\":[],\"properties\":[{\"default\":\"bottom-right\",\"kind\":null,\"name\":\"position\"},{\"default\":0,\"kind\":null,\"name\":\"_clear\"}]},{\"extends\":null,\"module\":null,\"name\":\"NotificationArea1\",\"overrides\":[],\"properties\":[{\"default\":[],\"kind\":null,\"name\":\"notifications\"},{\"default\":\"bottom-right\",\"kind\":null,\"name\":\"position\"},{\"default\":0,\"kind\":null,\"name\":\"_clear\"},{\"default\":[{\"background\":\"#ffc107\",\"icon\":{\"className\":\"fas fa-exclamation-triangle\",\"color\":\"white\",\"tagName\":\"i\"},\"type\":\"warning\"},{\"background\":\"#007bff\",\"icon\":{\"className\":\"fas fa-info-circle\",\"color\":\"white\",\"tagName\":\"i\"},\"type\":\"info\"}],\"kind\":null,\"name\":\"types\"}]},{\"extends\":null,\"module\":null,\"name\":\"Notification\",\"overrides\":[],\"properties\":[{\"default\":null,\"kind\":null,\"name\":\"background\"},{\"default\":3000,\"kind\":null,\"name\":\"duration\"},{\"default\":null,\"kind\":null,\"name\":\"icon\"},{\"default\":\"\",\"kind\":null,\"name\":\"message\"},{\"default\":null,\"kind\":null,\"name\":\"notification_type\"},{\"default\":false,\"kind\":null,\"name\":\"_destroyed\"}]},{\"extends\":null,\"module\":null,\"name\":\"TemplateActions1\",\"overrides\":[],\"properties\":[{\"default\":0,\"kind\":null,\"name\":\"open_modal\"},{\"default\":0,\"kind\":null,\"name\":\"close_modal\"}]},{\"extends\":null,\"module\":null,\"name\":\"MaterialTemplateActions1\",\"overrides\":[],\"properties\":[{\"default\":0,\"kind\":null,\"name\":\"open_modal\"},{\"default\":0,\"kind\":null,\"name\":\"close_modal\"}]}],\"roots\":{\"references\":[{\"attributes\":{\"below\":[{\"id\":\"1019\"}],\"center\":[{\"id\":\"1022\"},{\"id\":\"1026\"}],\"height\":300,\"left\":[{\"id\":\"1023\"}],\"margin\":[5,5,5,5],\"min_border_bottom\":10,\"min_border_left\":10,\"min_border_right\":10,\"min_border_top\":10,\"output_backend\":\"webgl\",\"renderers\":[{\"id\":\"1052\"},{\"id\":\"1073\"},{\"id\":\"1095\"}],\"right\":[{\"id\":\"1064\"}],\"sizing_mode\":\"fixed\",\"title\":{\"id\":\"1011\"},\"toolbar\":{\"id\":\"1033\"},\"width\":700,\"x_range\":{\"id\":\"1003\"},\"x_scale\":{\"id\":\"1017\"},\"y_range\":{\"id\":\"1004\"},\"y_scale\":{\"id\":\"1018\"}},\"id\":\"1010\",\"subtype\":\"Figure\",\"type\":\"Plot\"},{\"attributes\":{},\"id\":\"1047\",\"type\":\"Selection\"},{\"attributes\":{\"coordinates\":null,\"data_source\":{\"id\":\"1046\"},\"glyph\":{\"id\":\"1049\"},\"group\":null,\"hover_glyph\":null,\"muted_glyph\":{\"id\":\"1051\"},\"name\":\"rbf\",\"nonselection_glyph\":{\"id\":\"1050\"},\"selection_glyph\":{\"id\":\"1066\"},\"view\":{\"id\":\"1053\"}},\"id\":\"1052\",\"type\":\"GlyphRenderer\"},{\"attributes\":{\"fill_alpha\":{\"value\":0.1},\"fill_color\":{\"value\":\"#30a2da\"},\"hatch_alpha\":{\"value\":0.1},\"hatch_color\":{\"value\":\"#30a2da\"},\"line_alpha\":{\"value\":0.1},\"line_color\":{\"value\":\"#30a2da\"},\"size\":{\"value\":5.477225575051661},\"tags\":[\"apply_ranges\"],\"x\":{\"field\":\"Run\"},\"y\":{\"field\":\"value\"}},\"id\":\"1050\",\"type\":\"Scatter\"},{\"attributes\":{\"fill_alpha\":{\"value\":0.2},\"fill_color\":{\"value\":\"#fc4f30\"},\"hatch_alpha\":{\"value\":0.2},\"hatch_color\":{\"value\":\"#fc4f30\"},\"line_alpha\":{\"value\":0.2},\"line_color\":{\"value\":\"#fc4f30\"},\"size\":{\"value\":5.477225575051661},\"tags\":[\"apply_ranges\"],\"x\":{\"field\":\"Run\"},\"y\":{\"field\":\"value\"}},\"id\":\"1072\",\"type\":\"Scatter\"},{\"attributes\":{\"fill_alpha\":{\"value\":0.2},\"fill_color\":{\"value\":\"#e5ae38\"},\"hatch_alpha\":{\"value\":0.2},\"hatch_color\":{\"value\":\"#e5ae38\"},\"line_alpha\":{\"value\":0.2},\"line_color\":{\"value\":\"#e5ae38\"},\"size\":{\"value\":5.477225575051661},\"tags\":[\"apply_ranges\"],\"x\":{\"field\":\"Run\"},\"y\":{\"field\":\"value\"}},\"id\":\"1094\",\"type\":\"Scatter\"},{\"attributes\":{\"active_drag\":{\"id\":\"1028\"},\"active_scroll\":{\"id\":\"1029\"},\"tools\":[{\"id\":\"1007\"},{\"id\":\"1027\"},{\"id\":\"1028\"},{\"id\":\"1029\"},{\"id\":\"1030\"},{\"id\":\"1031\"}]},\"id\":\"1033\",\"type\":\"Toolbar\"},{\"attributes\":{\"axis\":{\"id\":\"1023\"},\"coordinates\":null,\"dimension\":1,\"grid_line_color\":null,\"group\":null,\"ticker\":null},\"id\":\"1026\",\"type\":\"Grid\"},{\"attributes\":{},\"id\":\"1017\",\"type\":\"LinearScale\"},{\"attributes\":{\"coordinates\":null,\"group\":null,\"text_color\":\"black\",\"text_font_size\":\"12pt\"},\"id\":\"1011\",\"type\":\"Title\"},{\"attributes\":{},\"id\":\"1024\",\"type\":\"BasicTicker\"},{\"attributes\":{},\"id\":\"1028\",\"type\":\"PanTool\"},{\"attributes\":{\"label\":{\"value\":\"cosine\"},\"renderers\":[{\"id\":\"1095\"}]},\"id\":\"1111\",\"type\":\"LegendItem\"},{\"attributes\":{\"coordinates\":null,\"data_source\":{\"id\":\"1067\"},\"glyph\":{\"id\":\"1070\"},\"group\":null,\"hover_glyph\":null,\"muted_glyph\":{\"id\":\"1072\"},\"name\":\"linear\",\"nonselection_glyph\":{\"id\":\"1071\"},\"selection_glyph\":{\"id\":\"1088\"},\"view\":{\"id\":\"1074\"}},\"id\":\"1073\",\"type\":\"GlyphRenderer\"},{\"attributes\":{\"fill_alpha\":{\"value\":0.1},\"fill_color\":{\"value\":\"#e5ae38\"},\"hatch_alpha\":{\"value\":0.1},\"hatch_color\":{\"value\":\"#e5ae38\"},\"line_alpha\":{\"value\":0.1},\"line_color\":{\"value\":\"#e5ae38\"},\"size\":{\"value\":5.477225575051661},\"tags\":[\"apply_ranges\"],\"x\":{\"field\":\"Run\"},\"y\":{\"field\":\"value\"}},\"id\":\"1093\",\"type\":\"Scatter\"},{\"attributes\":{\"angle\":{\"value\":0.0},\"fill_alpha\":{\"value\":1.0},\"fill_color\":{\"value\":\"#fc4f30\"},\"hatch_alpha\":{\"value\":1.0},\"hatch_color\":{\"value\":\"#fc4f30\"},\"hatch_scale\":{\"value\":12.0},\"hatch_weight\":{\"value\":1.0},\"line_alpha\":{\"value\":1.0},\"line_cap\":{\"value\":\"butt\"},\"line_color\":{\"value\":\"#fc4f30\"},\"line_dash\":{\"value\":[]},\"line_dash_offset\":{\"value\":0},\"line_join\":{\"value\":\"bevel\"},\"line_width\":{\"value\":1},\"marker\":{\"value\":\"circle\"},\"size\":{\"value\":5.477225575051661},\"tags\":[\"apply_ranges\"],\"x\":{\"field\":\"Run\"},\"y\":{\"field\":\"value\"}},\"id\":\"1088\",\"type\":\"Scatter\"},{\"attributes\":{\"fill_alpha\":{\"value\":0.2},\"fill_color\":{\"value\":\"#30a2da\"},\"hatch_alpha\":{\"value\":0.2},\"hatch_color\":{\"value\":\"#30a2da\"},\"line_alpha\":{\"value\":0.2},\"line_color\":{\"value\":\"#30a2da\"},\"size\":{\"value\":5.477225575051661},\"tags\":[\"apply_ranges\"],\"x\":{\"field\":\"Run\"},\"y\":{\"field\":\"value\"}},\"id\":\"1051\",\"type\":\"Scatter\"},{\"attributes\":{\"data\":{\"Run\":{\"__ndarray__\":\"mpmZmZmZuT8zMzMzMzPDP5qZmZmZmck/AAAAAAAA0D9mZmZmZmbWPw==\",\"dtype\":\"float64\",\"order\":\"little\",\"shape\":[5]},\"Variable\":[\"cosine\",\"cosine\",\"cosine\",\"cosine\",\"cosine\"],\"value\":{\"__ndarray__\":\"EHlpxH+k0D+WCPQV9xvOPyyBdOpkktE/Uki+ee121D9jRV0MxOHSPw==\",\"dtype\":\"float64\",\"order\":\"little\",\"shape\":[5]}},\"selected\":{\"id\":\"1090\"},\"selection_policy\":{\"id\":\"1108\"}},\"id\":\"1089\",\"type\":\"ColumnDataSource\"},{\"attributes\":{},\"id\":\"1018\",\"type\":\"LinearScale\"},{\"attributes\":{\"label\":{\"value\":\"rbf\"},\"renderers\":[{\"id\":\"1052\"}]},\"id\":\"1065\",\"type\":\"LegendItem\"},{\"attributes\":{\"end\":0.32886668056796187,\"reset_end\":0.32886668056796187,\"reset_start\":0.21957171802868714,\"start\":0.21957171802868714,\"tags\":[[[\"value\",\"value\",null]],{\"autorange\":false,\"invert_yaxis\":false}]},\"id\":\"1004\",\"type\":\"Range1d\"},{\"attributes\":{\"source\":{\"id\":\"1067\"}},\"id\":\"1074\",\"type\":\"CDSView\"},{\"attributes\":{\"overlay\":{\"id\":\"1032\"}},\"id\":\"1030\",\"type\":\"BoxZoomTool\"},{\"attributes\":{},\"id\":\"1045\",\"type\":\"AllLabels\"},{\"attributes\":{},\"id\":\"1084\",\"type\":\"UnionRenderers\"},{\"attributes\":{\"children\":[{\"id\":\"1010\"}],\"height\":300,\"margin\":[0,0,0,0],\"name\":\"Row00925\",\"sizing_mode\":\"fixed\",\"tags\":[\"embedded\"],\"width\":700},\"id\":\"1002\",\"type\":\"Row\"},{\"attributes\":{\"data\":{\"Run\":{\"__ndarray__\":\"mpmZmZmZuT8zMzMzMzPDP5qZmZmZmck/AAAAAAAA0D9mZmZmZmbWPw==\",\"dtype\":\"float64\",\"order\":\"little\",\"shape\":[5]},\"Variable\":[\"rbf\",\"rbf\",\"rbf\",\"rbf\",\"rbf\"],\"value\":{\"__ndarray__\":\"3NCrOt/lzj8jed4goDLSPyN53iCgMtI//F1vyV9FzT8bgJ2PnePSPw==\",\"dtype\":\"float64\",\"order\":\"little\",\"shape\":[5]}},\"selected\":{\"id\":\"1047\"},\"selection_policy\":{\"id\":\"1061\"}},\"id\":\"1046\",\"type\":\"ColumnDataSource\"},{\"attributes\":{},\"id\":\"1027\",\"type\":\"SaveTool\"},{\"attributes\":{},\"id\":\"1020\",\"type\":\"BasicTicker\"},{\"attributes\":{\"angle\":{\"value\":0.0},\"fill_alpha\":{\"value\":1.0},\"fill_color\":{\"value\":\"#e5ae38\"},\"hatch_alpha\":{\"value\":1.0},\"hatch_color\":{\"value\":\"#e5ae38\"},\"hatch_scale\":{\"value\":12.0},\"hatch_weight\":{\"value\":1.0},\"line_alpha\":{\"value\":1.0},\"line_cap\":{\"value\":\"butt\"},\"line_color\":{\"value\":\"#e5ae38\"},\"line_dash\":{\"value\":[]},\"line_dash_offset\":{\"value\":0},\"line_join\":{\"value\":\"bevel\"},\"line_width\":{\"value\":1},\"marker\":{\"value\":\"circle\"},\"size\":{\"value\":5.477225575051661},\"tags\":[\"apply_ranges\"],\"x\":{\"field\":\"Run\"},\"y\":{\"field\":\"value\"}},\"id\":\"1112\",\"type\":\"Scatter\"},{\"attributes\":{\"fill_color\":{\"value\":\"#e5ae38\"},\"hatch_color\":{\"value\":\"#e5ae38\"},\"line_color\":{\"value\":\"#e5ae38\"},\"size\":{\"value\":5.477225575051661},\"tags\":[\"apply_ranges\"],\"x\":{\"field\":\"Run\"},\"y\":{\"field\":\"value\"}},\"id\":\"1092\",\"type\":\"Scatter\"},{\"attributes\":{\"coordinates\":null,\"data_source\":{\"id\":\"1089\"},\"glyph\":{\"id\":\"1092\"},\"group\":null,\"hover_glyph\":null,\"muted_glyph\":{\"id\":\"1094\"},\"name\":\"cosine\",\"nonselection_glyph\":{\"id\":\"1093\"},\"selection_glyph\":{\"id\":\"1112\"},\"view\":{\"id\":\"1096\"}},\"id\":\"1095\",\"type\":\"GlyphRenderer\"},{\"attributes\":{},\"id\":\"1041\",\"type\":\"BasicTickFormatter\"},{\"attributes\":{\"fill_color\":{\"value\":\"#fc4f30\"},\"hatch_color\":{\"value\":\"#fc4f30\"},\"line_color\":{\"value\":\"#fc4f30\"},\"size\":{\"value\":5.477225575051661},\"tags\":[\"apply_ranges\"],\"x\":{\"field\":\"Run\"},\"y\":{\"field\":\"value\"}},\"id\":\"1070\",\"type\":\"Scatter\"},{\"attributes\":{\"axis_label\":\"Run\",\"coordinates\":null,\"formatter\":{\"id\":\"1041\"},\"group\":null,\"major_label_policy\":{\"id\":\"1042\"},\"ticker\":{\"id\":\"1020\"}},\"id\":\"1019\",\"type\":\"LinearAxis\"},{\"attributes\":{},\"id\":\"1031\",\"type\":\"ResetTool\"},{\"attributes\":{\"label\":{\"value\":\"linear\"},\"renderers\":[{\"id\":\"1073\"}]},\"id\":\"1087\",\"type\":\"LegendItem\"},{\"attributes\":{\"bottom_units\":\"screen\",\"coordinates\":null,\"fill_alpha\":0.5,\"fill_color\":\"lightgrey\",\"group\":null,\"left_units\":\"screen\",\"level\":\"overlay\",\"line_alpha\":1.0,\"line_color\":\"black\",\"line_dash\":[4,4],\"line_width\":2,\"right_units\":\"screen\",\"syncable\":false,\"top_units\":\"screen\"},\"id\":\"1032\",\"type\":\"BoxAnnotation\"},{\"attributes\":{\"click_policy\":\"mute\",\"coordinates\":null,\"group\":null,\"items\":[{\"id\":\"1065\"},{\"id\":\"1087\"},{\"id\":\"1111\"}],\"location\":[0,0],\"title\":\"Variable\"},\"id\":\"1064\",\"type\":\"Legend\"},{\"attributes\":{\"callback\":null,\"renderers\":[{\"id\":\"1052\"},{\"id\":\"1073\"},{\"id\":\"1095\"}],\"tags\":[\"hv_created\"],\"tooltips\":[[\"Variable\",\"@{Variable}\"],[\"Run\",\"@{Run}\"],[\"value\",\"@{value}\"]]},\"id\":\"1007\",\"type\":\"HoverTool\"},{\"attributes\":{\"fill_color\":{\"value\":\"#30a2da\"},\"hatch_color\":{\"value\":\"#30a2da\"},\"line_color\":{\"value\":\"#30a2da\"},\"size\":{\"value\":5.477225575051661},\"tags\":[\"apply_ranges\"],\"x\":{\"field\":\"Run\"},\"y\":{\"field\":\"value\"}},\"id\":\"1049\",\"type\":\"Scatter\"},{\"attributes\":{\"fill_alpha\":{\"value\":0.1},\"fill_color\":{\"value\":\"#fc4f30\"},\"hatch_alpha\":{\"value\":0.1},\"hatch_color\":{\"value\":\"#fc4f30\"},\"line_alpha\":{\"value\":0.1},\"line_color\":{\"value\":\"#fc4f30\"},\"size\":{\"value\":5.477225575051661},\"tags\":[\"apply_ranges\"],\"x\":{\"field\":\"Run\"},\"y\":{\"field\":\"value\"}},\"id\":\"1071\",\"type\":\"Scatter\"},{\"attributes\":{\"source\":{\"id\":\"1089\"}},\"id\":\"1096\",\"type\":\"CDSView\"},{\"attributes\":{\"axis\":{\"id\":\"1019\"},\"coordinates\":null,\"grid_line_color\":null,\"group\":null,\"ticker\":null},\"id\":\"1022\",\"type\":\"Grid\"},{\"attributes\":{\"angle\":{\"value\":0.0},\"fill_alpha\":{\"value\":1.0},\"fill_color\":{\"value\":\"#30a2da\"},\"hatch_alpha\":{\"value\":1.0},\"hatch_color\":{\"value\":\"#30a2da\"},\"hatch_scale\":{\"value\":12.0},\"hatch_weight\":{\"value\":1.0},\"line_alpha\":{\"value\":1.0},\"line_cap\":{\"value\":\"butt\"},\"line_color\":{\"value\":\"#30a2da\"},\"line_dash\":{\"value\":[]},\"line_dash_offset\":{\"value\":0},\"line_join\":{\"value\":\"bevel\"},\"line_width\":{\"value\":1},\"marker\":{\"value\":\"circle\"},\"size\":{\"value\":5.477225575051661},\"tags\":[\"apply_ranges\"],\"x\":{\"field\":\"Run\"},\"y\":{\"field\":\"value\"}},\"id\":\"1066\",\"type\":\"Scatter\"},{\"attributes\":{},\"id\":\"1061\",\"type\":\"UnionRenderers\"},{\"attributes\":{\"end\":0.3607142857142857,\"reset_end\":0.3607142857142857,\"reset_start\":0.08928571428571429,\"start\":0.08928571428571429,\"tags\":[[[\"Run\",\"Run\",null]],[]]},\"id\":\"1003\",\"type\":\"Range1d\"},{\"attributes\":{},\"id\":\"1029\",\"type\":\"WheelZoomTool\"},{\"attributes\":{},\"id\":\"1044\",\"type\":\"BasicTickFormatter\"},{\"attributes\":{\"axis_label\":\"\",\"coordinates\":null,\"formatter\":{\"id\":\"1044\"},\"group\":null,\"major_label_policy\":{\"id\":\"1045\"},\"ticker\":{\"id\":\"1024\"}},\"id\":\"1023\",\"type\":\"LinearAxis\"},{\"attributes\":{},\"id\":\"1042\",\"type\":\"AllLabels\"},{\"attributes\":{},\"id\":\"1068\",\"type\":\"Selection\"},{\"attributes\":{\"data\":{\"Run\":{\"__ndarray__\":\"mpmZmZmZuT8zMzMzMzPDP5qZmZmZmck/AAAAAAAA0D9mZmZmZmbWPw==\",\"dtype\":\"float64\",\"order\":\"little\",\"shape\":[5]},\"Variable\":[\"linear\",\"linear\",\"linear\",\"linear\",\"linear\"],\"value\":{\"__ndarray__\":\"zcclW6ru0T8jed4goDLSPyN53iCgMtI/EXGuOTO10T8bgJ2PnePSPw==\",\"dtype\":\"float64\",\"order\":\"little\",\"shape\":[5]}},\"selected\":{\"id\":\"1068\"},\"selection_policy\":{\"id\":\"1084\"}},\"id\":\"1067\",\"type\":\"ColumnDataSource\"},{\"attributes\":{},\"id\":\"1090\",\"type\":\"Selection\"},{\"attributes\":{\"source\":{\"id\":\"1046\"}},\"id\":\"1053\",\"type\":\"CDSView\"},{\"attributes\":{},\"id\":\"1108\",\"type\":\"UnionRenderers\"}],\"root_ids\":[\"1002\"]},\"title\":\"Bokeh Application\",\"version\":\"2.4.3\"}};\n",
       "    var render_items = [{\"docid\":\"43a3bf22-c417-4b5c-a7e6-92cad32aa8c0\",\"root_ids\":[\"1002\"],\"roots\":{\"1002\":\"e5b73485-1267-4166-b6df-7bbe48e19d93\"}}];\n",
       "    root.Bokeh.embed.embed_items_notebook(docs_json, render_items);\n",
       "    for (const render_item of render_items) {\n",
       "      for (const root_id of render_item.root_ids) {\n",
       "\tconst id_el = document.getElementById(root_id)\n",
       "\tif (id_el.children.length && (id_el.children[0].className === 'bk-root')) {\n",
       "\t  const root_el = id_el.children[0]\n",
       "\t  root_el.id = root_el.id + '-rendered'\n",
       "\t}\n",
       "      }\n",
       "    }\n",
       "  }\n",
       "  if (root.Bokeh !== undefined && root.Bokeh.Panel !== undefined) {\n",
       "    embed_document(root);\n",
       "  } else {\n",
       "    var attempts = 0;\n",
       "    var timer = setInterval(function(root) {\n",
       "      if (root.Bokeh !== undefined && root.Bokeh.Panel !== undefined) {\n",
       "        clearInterval(timer);\n",
       "        embed_document(root);\n",
       "      } else if (document.readyState == \"complete\") {\n",
       "        attempts++;\n",
       "        if (attempts > 200) {\n",
       "          clearInterval(timer);\n",
       "          console.log(\"Bokeh: ERROR: Unable to run BokehJS code because BokehJS library is missing\");\n",
       "        }\n",
       "      }\n",
       "    }, 25, root)\n",
       "  }\n",
       "})(window);</script>"
      ],
      "text/plain": [
       ":NdOverlay   [Variable]\n",
       "   :Scatter   [Run]   (value)"
      ]
     },
     "execution_count": 3,
     "metadata": {
      "application/vnd.holoviews_exec.v0+json": {
       "id": "1002"
      }
     },
     "output_type": "execute_result"
    }
   ],
   "source": [
    "data50.hvplot(x='Run', y=[\"rbf\",\"linear\",\"cosine\"], kind='scatter')"
   ]
  },
  {
   "cell_type": "markdown",
   "metadata": {},
   "source": [
    "The cosine Kernel performed the best overall. So I chose that to be my kernel. "
   ]
  },
  {
   "cell_type": "markdown",
   "metadata": {},
   "source": [
    "I also tried different values for alpha and gamma for my kernels and all of them performed similiarly.\n",
    "\n",
    "\n",
    "![alt text](Kernel_PCA_gamma001.png)"
   ]
  },
  {
   "cell_type": "code",
   "execution_count": 5,
   "metadata": {},
   "outputs": [
    {
     "data": {},
     "metadata": {},
     "output_type": "display_data"
    },
    {
     "data": {
      "application/vnd.holoviews_exec.v0+json": "",
      "text/html": [
       "<div id='1202'>\n",
       "  <div class=\"bk-root\" id=\"a34c9814-9151-4509-92b6-20d25b42b5ba\" data-root-id=\"1202\"></div>\n",
       "</div>\n",
       "<script type=\"application/javascript\">(function(root) {\n",
       "  function embed_document(root) {\n",
       "    var docs_json = {\"83316927-b2dd-4bfa-8e18-d307ca34a945\":{\"defs\":[{\"extends\":null,\"module\":null,\"name\":\"ReactiveHTML1\",\"overrides\":[],\"properties\":[]},{\"extends\":null,\"module\":null,\"name\":\"FlexBox1\",\"overrides\":[],\"properties\":[{\"default\":\"flex-start\",\"kind\":null,\"name\":\"align_content\"},{\"default\":\"flex-start\",\"kind\":null,\"name\":\"align_items\"},{\"default\":\"row\",\"kind\":null,\"name\":\"flex_direction\"},{\"default\":\"wrap\",\"kind\":null,\"name\":\"flex_wrap\"},{\"default\":\"flex-start\",\"kind\":null,\"name\":\"justify_content\"}]},{\"extends\":null,\"module\":null,\"name\":\"GridStack1\",\"overrides\":[],\"properties\":[{\"default\":\"warn\",\"kind\":null,\"name\":\"mode\"},{\"default\":null,\"kind\":null,\"name\":\"ncols\"},{\"default\":null,\"kind\":null,\"name\":\"nrows\"},{\"default\":true,\"kind\":null,\"name\":\"allow_resize\"},{\"default\":true,\"kind\":null,\"name\":\"allow_drag\"},{\"default\":[],\"kind\":null,\"name\":\"state\"}]},{\"extends\":null,\"module\":null,\"name\":\"click1\",\"overrides\":[],\"properties\":[{\"default\":\"\",\"kind\":null,\"name\":\"terminal_output\"},{\"default\":\"\",\"kind\":null,\"name\":\"debug_name\"},{\"default\":0,\"kind\":null,\"name\":\"clears\"}]},{\"extends\":null,\"module\":null,\"name\":\"NotificationAreaBase1\",\"overrides\":[],\"properties\":[{\"default\":\"bottom-right\",\"kind\":null,\"name\":\"position\"},{\"default\":0,\"kind\":null,\"name\":\"_clear\"}]},{\"extends\":null,\"module\":null,\"name\":\"NotificationArea1\",\"overrides\":[],\"properties\":[{\"default\":[],\"kind\":null,\"name\":\"notifications\"},{\"default\":\"bottom-right\",\"kind\":null,\"name\":\"position\"},{\"default\":0,\"kind\":null,\"name\":\"_clear\"},{\"default\":[{\"background\":\"#ffc107\",\"icon\":{\"className\":\"fas fa-exclamation-triangle\",\"color\":\"white\",\"tagName\":\"i\"},\"type\":\"warning\"},{\"background\":\"#007bff\",\"icon\":{\"className\":\"fas fa-info-circle\",\"color\":\"white\",\"tagName\":\"i\"},\"type\":\"info\"}],\"kind\":null,\"name\":\"types\"}]},{\"extends\":null,\"module\":null,\"name\":\"Notification\",\"overrides\":[],\"properties\":[{\"default\":null,\"kind\":null,\"name\":\"background\"},{\"default\":3000,\"kind\":null,\"name\":\"duration\"},{\"default\":null,\"kind\":null,\"name\":\"icon\"},{\"default\":\"\",\"kind\":null,\"name\":\"message\"},{\"default\":null,\"kind\":null,\"name\":\"notification_type\"},{\"default\":false,\"kind\":null,\"name\":\"_destroyed\"}]},{\"extends\":null,\"module\":null,\"name\":\"TemplateActions1\",\"overrides\":[],\"properties\":[{\"default\":0,\"kind\":null,\"name\":\"open_modal\"},{\"default\":0,\"kind\":null,\"name\":\"close_modal\"}]},{\"extends\":null,\"module\":null,\"name\":\"MaterialTemplateActions1\",\"overrides\":[],\"properties\":[{\"default\":0,\"kind\":null,\"name\":\"open_modal\"},{\"default\":0,\"kind\":null,\"name\":\"close_modal\"}]}],\"roots\":{\"references\":[{\"attributes\":{\"axis\":{\"id\":\"1226\"},\"coordinates\":null,\"dimension\":1,\"grid_line_color\":null,\"group\":null,\"ticker\":null},\"id\":\"1229\",\"type\":\"Grid\"},{\"attributes\":{},\"id\":\"1250\",\"type\":\"Selection\"},{\"attributes\":{\"angle\":{\"value\":0.0},\"fill_alpha\":{\"value\":1.0},\"fill_color\":{\"value\":\"#8b8b8b\"},\"hatch_alpha\":{\"value\":1.0},\"hatch_color\":{\"value\":\"#8b8b8b\"},\"hatch_scale\":{\"value\":12.0},\"hatch_weight\":{\"value\":1.0},\"line_alpha\":{\"value\":1.0},\"line_cap\":{\"value\":\"butt\"},\"line_color\":{\"value\":\"#8b8b8b\"},\"line_dash\":{\"value\":[]},\"line_dash_offset\":{\"value\":0},\"line_join\":{\"value\":\"bevel\"},\"line_width\":{\"value\":1},\"marker\":{\"value\":\"circle\"},\"size\":{\"value\":5.477225575051661},\"tags\":[\"apply_ranges\"],\"x\":{\"field\":\"Run\"},\"y\":{\"field\":\"value\"}},\"id\":\"1369\",\"type\":\"Scatter\"},{\"attributes\":{},\"id\":\"1227\",\"type\":\"BasicTicker\"},{\"attributes\":{},\"id\":\"1248\",\"type\":\"AllLabels\"},{\"attributes\":{\"angle\":{\"value\":0.0},\"fill_alpha\":{\"value\":1.0},\"fill_color\":{\"value\":\"#e5ae38\"},\"hatch_alpha\":{\"value\":1.0},\"hatch_color\":{\"value\":\"#e5ae38\"},\"hatch_scale\":{\"value\":12.0},\"hatch_weight\":{\"value\":1.0},\"line_alpha\":{\"value\":1.0},\"line_cap\":{\"value\":\"butt\"},\"line_color\":{\"value\":\"#e5ae38\"},\"line_dash\":{\"value\":[]},\"line_dash_offset\":{\"value\":0},\"line_join\":{\"value\":\"bevel\"},\"line_width\":{\"value\":1},\"marker\":{\"value\":\"circle\"},\"size\":{\"value\":5.477225575051661},\"tags\":[\"apply_ranges\"],\"x\":{\"field\":\"Run\"},\"y\":{\"field\":\"value\"}},\"id\":\"1315\",\"type\":\"Scatter\"},{\"attributes\":{},\"id\":\"1365\",\"type\":\"UnionRenderers\"},{\"attributes\":{},\"id\":\"1287\",\"type\":\"UnionRenderers\"},{\"attributes\":{\"angle\":{\"value\":0.0},\"fill_alpha\":{\"value\":1.0},\"fill_color\":{\"value\":\"#30a2da\"},\"hatch_alpha\":{\"value\":1.0},\"hatch_color\":{\"value\":\"#30a2da\"},\"hatch_scale\":{\"value\":12.0},\"hatch_weight\":{\"value\":1.0},\"line_alpha\":{\"value\":1.0},\"line_cap\":{\"value\":\"butt\"},\"line_color\":{\"value\":\"#30a2da\"},\"line_dash\":{\"value\":[]},\"line_dash_offset\":{\"value\":0},\"line_join\":{\"value\":\"bevel\"},\"line_width\":{\"value\":1},\"marker\":{\"value\":\"circle\"},\"size\":{\"value\":5.477225575051661},\"tags\":[\"apply_ranges\"],\"x\":{\"field\":\"Run\"},\"y\":{\"field\":\"value\"}},\"id\":\"1269\",\"type\":\"Scatter\"},{\"attributes\":{\"active_drag\":{\"id\":\"1231\"},\"active_scroll\":{\"id\":\"1232\"},\"tools\":[{\"id\":\"1207\"},{\"id\":\"1230\"},{\"id\":\"1231\"},{\"id\":\"1232\"},{\"id\":\"1233\"},{\"id\":\"1234\"}]},\"id\":\"1236\",\"type\":\"Toolbar\"},{\"attributes\":{\"source\":{\"id\":\"1316\"}},\"id\":\"1323\",\"type\":\"CDSView\"},{\"attributes\":{\"below\":[{\"id\":\"1222\"}],\"center\":[{\"id\":\"1225\"},{\"id\":\"1229\"}],\"height\":300,\"left\":[{\"id\":\"1226\"}],\"margin\":[5,5,5,5],\"min_border_bottom\":10,\"min_border_left\":10,\"min_border_right\":10,\"min_border_top\":10,\"output_backend\":\"webgl\",\"renderers\":[{\"id\":\"1255\"},{\"id\":\"1276\"},{\"id\":\"1298\"},{\"id\":\"1322\"},{\"id\":\"1348\"},{\"id\":\"1376\"}],\"right\":[{\"id\":\"1267\"}],\"sizing_mode\":\"fixed\",\"title\":{\"id\":\"1214\"},\"toolbar\":{\"id\":\"1236\"},\"width\":700,\"x_range\":{\"id\":\"1203\"},\"x_scale\":{\"id\":\"1220\"},\"y_range\":{\"id\":\"1204\"},\"y_scale\":{\"id\":\"1221\"}},\"id\":\"1213\",\"subtype\":\"Figure\",\"type\":\"Plot\"},{\"attributes\":{\"label\":{\"value\":\"Alpha5\"},\"renderers\":[{\"id\":\"1376\"}]},\"id\":\"1398\",\"type\":\"LegendItem\"},{\"attributes\":{\"overlay\":{\"id\":\"1235\"}},\"id\":\"1233\",\"type\":\"BoxZoomTool\"},{\"attributes\":{\"data\":{\"Run\":{\"__ndarray__\":\"mpmZmZmZuT8zMzMzMzPDP5qZmZmZmck/AAAAAAAA0D8zMzMzMzPTP2ZmZmZmZtY/mpmZmZmZ2T/NzMzMzMzcPwAAAAAAAOA/mpmZmZmZ4T8zMzMzMzPjP83MzMzMzOQ/ZmZmZmZm5j8AAAAAAADoP5qZmZmZmek/\",\"dtype\":\"float64\",\"order\":\"little\",\"shape\":[15]},\"Variable\":[\"Gamma100\",\"Gamma100\",\"Gamma100\",\"Gamma100\",\"Gamma100\",\"Gamma100\",\"Gamma100\",\"Gamma100\",\"Gamma100\",\"Gamma100\",\"Gamma100\",\"Gamma100\",\"Gamma100\",\"Gamma100\",\"Gamma100\"],\"value\":{\"__ndarray__\":\"+403oCUwtz/3KVbpgrvPP9AvG354G9A/A0Dl12ENtT+Ggoa3D3fSP83HJVuq7tE/I3neIKAy0j8jed4goDLSP5+pfxeBCdI/Y0VdDMTh0j+1ziyBGyPRPxFbPEsoHs4/LIF06mSS0T+A0qaeqoLUPxuAnY+d49I/\",\"dtype\":\"float64\",\"order\":\"little\",\"shape\":[15]}},\"selected\":{\"id\":\"1317\"},\"selection_policy\":{\"id\":\"1337\"}},\"id\":\"1316\",\"type\":\"ColumnDataSource\"},{\"attributes\":{},\"id\":\"1244\",\"type\":\"BasicTickFormatter\"},{\"attributes\":{},\"id\":\"1343\",\"type\":\"Selection\"},{\"attributes\":{},\"id\":\"1221\",\"type\":\"LinearScale\"},{\"attributes\":{\"label\":{\"value\":\"Gamma1\"},\"renderers\":[{\"id\":\"1276\"}]},\"id\":\"1290\",\"type\":\"LegendItem\"},{\"attributes\":{\"data\":{\"Run\":{\"__ndarray__\":\"mpmZmZmZuT8zMzMzMzPDP5qZmZmZmck/AAAAAAAA0D8zMzMzMzPTP2ZmZmZmZtY/mpmZmZmZ2T/NzMzMzMzcPwAAAAAAAOA/mpmZmZmZ4T8zMzMzMzPjP83MzMzMzOQ/ZmZmZmZm5j8AAAAAAADoP5qZmZmZmek/\",\"dtype\":\"float64\",\"order\":\"little\",\"shape\":[15]},\"Variable\":[\"Gamma1\",\"Gamma1\",\"Gamma1\",\"Gamma1\",\"Gamma1\",\"Gamma1\",\"Gamma1\",\"Gamma1\",\"Gamma1\",\"Gamma1\",\"Gamma1\",\"Gamma1\",\"Gamma1\",\"Gamma1\",\"Gamma1\"],\"value\":{\"__ndarray__\":\"Ocn8rXiazz8jed4goDLSPyN53iCgMtI/18r2eekd0T9jRV0MxOHSP9cYCKPA8tE/I3neIKAy0j8jed4goDLSP8lFs/0JANI/Y0VdDMTh0j8QeWnEf6TQP5YI9BX3G84/LIF06mSS0T8FD62hlk/UPxuAnY+d49I/\",\"dtype\":\"float64\",\"order\":\"little\",\"shape\":[15]}},\"selected\":{\"id\":\"1271\"},\"selection_policy\":{\"id\":\"1287\"}},\"id\":\"1270\",\"type\":\"ColumnDataSource\"},{\"attributes\":{\"fill_color\":{\"value\":\"#fc4f30\"},\"hatch_color\":{\"value\":\"#fc4f30\"},\"line_color\":{\"value\":\"#fc4f30\"},\"size\":{\"value\":5.477225575051661},\"tags\":[\"apply_ranges\"],\"x\":{\"field\":\"Run\"},\"y\":{\"field\":\"value\"}},\"id\":\"1273\",\"type\":\"Scatter\"},{\"attributes\":{},\"id\":\"1311\",\"type\":\"UnionRenderers\"},{\"attributes\":{\"fill_alpha\":{\"value\":0.1},\"fill_color\":{\"value\":\"#30a2da\"},\"hatch_alpha\":{\"value\":0.1},\"hatch_color\":{\"value\":\"#30a2da\"},\"line_alpha\":{\"value\":0.1},\"line_color\":{\"value\":\"#30a2da\"},\"size\":{\"value\":5.477225575051661},\"tags\":[\"apply_ranges\"],\"x\":{\"field\":\"Run\"},\"y\":{\"field\":\"value\"}},\"id\":\"1253\",\"type\":\"Scatter\"},{\"attributes\":{\"data\":{\"Run\":{\"__ndarray__\":\"mpmZmZmZuT8zMzMzMzPDP5qZmZmZmck/AAAAAAAA0D8zMzMzMzPTP2ZmZmZmZtY/mpmZmZmZ2T/NzMzMzMzcPwAAAAAAAOA/mpmZmZmZ4T8zMzMzMzPjP83MzMzMzOQ/ZmZmZmZm5j8AAAAAAADoP5qZmZmZmek/\",\"dtype\":\"float64\",\"order\":\"little\",\"shape\":[15]},\"Variable\":[\"Alpha5\",\"Alpha5\",\"Alpha5\",\"Alpha5\",\"Alpha5\",\"Alpha5\",\"Alpha5\",\"Alpha5\",\"Alpha5\",\"Alpha5\",\"Alpha5\",\"Alpha5\",\"Alpha5\",\"Alpha5\",\"Alpha5\"],\"value\":{\"__ndarray__\":\"gLMOYooC0D8jed4goDLSP6wGiihNPNI/18r2eekd0T9jRV0MxOHSP9slJnOz8NE/I3neIKAy0j8jed4goDLSP0Rfp4rGzdA/G4Cdj53j0j9+sDRkEn/QP3z08+S1n84/LIF06mSS0T8FD62hlk/UPxuAnY+d49I/\",\"dtype\":\"float64\",\"order\":\"little\",\"shape\":[15]}},\"selected\":{\"id\":\"1371\"},\"selection_policy\":{\"id\":\"1395\"}},\"id\":\"1370\",\"type\":\"ColumnDataSource\"},{\"attributes\":{\"fill_alpha\":{\"value\":0.1},\"fill_color\":{\"value\":\"#fc4f30\"},\"hatch_alpha\":{\"value\":0.1},\"hatch_color\":{\"value\":\"#fc4f30\"},\"line_alpha\":{\"value\":0.1},\"line_color\":{\"value\":\"#fc4f30\"},\"size\":{\"value\":5.477225575051661},\"tags\":[\"apply_ranges\"],\"x\":{\"field\":\"Run\"},\"y\":{\"field\":\"value\"}},\"id\":\"1274\",\"type\":\"Scatter\"},{\"attributes\":{\"callback\":null,\"renderers\":[{\"id\":\"1255\"},{\"id\":\"1276\"},{\"id\":\"1298\"},{\"id\":\"1322\"},{\"id\":\"1348\"},{\"id\":\"1376\"}],\"tags\":[\"hv_created\"],\"tooltips\":[[\"Variable\",\"@{Variable}\"],[\"Run\",\"@{Run}\"],[\"value\",\"@{value}\"]]},\"id\":\"1207\",\"type\":\"HoverTool\"},{\"attributes\":{\"fill_color\":{\"value\":\"#e5ae38\"},\"hatch_color\":{\"value\":\"#e5ae38\"},\"line_color\":{\"value\":\"#e5ae38\"},\"size\":{\"value\":5.477225575051661},\"tags\":[\"apply_ranges\"],\"x\":{\"field\":\"Run\"},\"y\":{\"field\":\"value\"}},\"id\":\"1295\",\"type\":\"Scatter\"},{\"attributes\":{\"fill_alpha\":{\"value\":0.2},\"fill_color\":{\"value\":\"#fc4f30\"},\"hatch_alpha\":{\"value\":0.2},\"hatch_color\":{\"value\":\"#fc4f30\"},\"line_alpha\":{\"value\":0.2},\"line_color\":{\"value\":\"#fc4f30\"},\"size\":{\"value\":5.477225575051661},\"tags\":[\"apply_ranges\"],\"x\":{\"field\":\"Run\"},\"y\":{\"field\":\"value\"}},\"id\":\"1275\",\"type\":\"Scatter\"},{\"attributes\":{\"fill_color\":{\"value\":\"#6d904f\"},\"hatch_color\":{\"value\":\"#6d904f\"},\"line_color\":{\"value\":\"#6d904f\"},\"size\":{\"value\":5.477225575051661},\"tags\":[\"apply_ranges\"],\"x\":{\"field\":\"Run\"},\"y\":{\"field\":\"value\"}},\"id\":\"1319\",\"type\":\"Scatter\"},{\"attributes\":{\"fill_alpha\":{\"value\":0.1},\"fill_color\":{\"value\":\"#e5ae38\"},\"hatch_alpha\":{\"value\":0.1},\"hatch_color\":{\"value\":\"#e5ae38\"},\"line_alpha\":{\"value\":0.1},\"line_color\":{\"value\":\"#e5ae38\"},\"size\":{\"value\":5.477225575051661},\"tags\":[\"apply_ranges\"],\"x\":{\"field\":\"Run\"},\"y\":{\"field\":\"value\"}},\"id\":\"1296\",\"type\":\"Scatter\"},{\"attributes\":{\"fill_alpha\":{\"value\":0.1},\"fill_color\":{\"value\":\"#6d904f\"},\"hatch_alpha\":{\"value\":0.1},\"hatch_color\":{\"value\":\"#6d904f\"},\"line_alpha\":{\"value\":0.1},\"line_color\":{\"value\":\"#6d904f\"},\"size\":{\"value\":5.477225575051661},\"tags\":[\"apply_ranges\"],\"x\":{\"field\":\"Run\"},\"y\":{\"field\":\"value\"}},\"id\":\"1320\",\"type\":\"Scatter\"},{\"attributes\":{\"coordinates\":null,\"group\":null,\"text_color\":\"black\",\"text_font_size\":\"12pt\"},\"id\":\"1214\",\"type\":\"Title\"},{\"attributes\":{\"fill_alpha\":{\"value\":0.2},\"fill_color\":{\"value\":\"#e5ae38\"},\"hatch_alpha\":{\"value\":0.2},\"hatch_color\":{\"value\":\"#e5ae38\"},\"line_alpha\":{\"value\":0.2},\"line_color\":{\"value\":\"#e5ae38\"},\"size\":{\"value\":5.477225575051661},\"tags\":[\"apply_ranges\"],\"x\":{\"field\":\"Run\"},\"y\":{\"field\":\"value\"}},\"id\":\"1297\",\"type\":\"Scatter\"},{\"attributes\":{},\"id\":\"1337\",\"type\":\"UnionRenderers\"},{\"attributes\":{\"label\":{\"value\":\"Gamma10\"},\"renderers\":[{\"id\":\"1298\"}]},\"id\":\"1314\",\"type\":\"LegendItem\"},{\"attributes\":{},\"id\":\"1395\",\"type\":\"UnionRenderers\"},{\"attributes\":{\"source\":{\"id\":\"1370\"}},\"id\":\"1377\",\"type\":\"CDSView\"},{\"attributes\":{\"end\":0.34429922953194636,\"reset_end\":0.34429922953194636,\"reset_start\":0.05841146587030939,\"start\":0.05841146587030939,\"tags\":[[[\"value\",\"value\",null]],{\"autorange\":false,\"invert_yaxis\":false}]},\"id\":\"1204\",\"type\":\"Range1d\"},{\"attributes\":{\"coordinates\":null,\"data_source\":{\"id\":\"1316\"},\"glyph\":{\"id\":\"1319\"},\"group\":null,\"hover_glyph\":null,\"muted_glyph\":{\"id\":\"1321\"},\"name\":\"Gamma100\",\"nonselection_glyph\":{\"id\":\"1320\"},\"selection_glyph\":{\"id\":\"1341\"},\"view\":{\"id\":\"1323\"}},\"id\":\"1322\",\"type\":\"GlyphRenderer\"},{\"attributes\":{\"fill_color\":{\"value\":\"#17becf\"},\"hatch_color\":{\"value\":\"#17becf\"},\"line_color\":{\"value\":\"#17becf\"},\"size\":{\"value\":5.477225575051661},\"tags\":[\"apply_ranges\"],\"x\":{\"field\":\"Run\"},\"y\":{\"field\":\"value\"}},\"id\":\"1373\",\"type\":\"Scatter\"},{\"attributes\":{},\"id\":\"1234\",\"type\":\"ResetTool\"},{\"attributes\":{\"fill_color\":{\"value\":\"#8b8b8b\"},\"hatch_color\":{\"value\":\"#8b8b8b\"},\"line_color\":{\"value\":\"#8b8b8b\"},\"size\":{\"value\":5.477225575051661},\"tags\":[\"apply_ranges\"],\"x\":{\"field\":\"Run\"},\"y\":{\"field\":\"value\"}},\"id\":\"1345\",\"type\":\"Scatter\"},{\"attributes\":{\"fill_alpha\":{\"value\":0.1},\"fill_color\":{\"value\":\"#17becf\"},\"hatch_alpha\":{\"value\":0.1},\"hatch_color\":{\"value\":\"#17becf\"},\"line_alpha\":{\"value\":0.1},\"line_color\":{\"value\":\"#17becf\"},\"size\":{\"value\":5.477225575051661},\"tags\":[\"apply_ranges\"],\"x\":{\"field\":\"Run\"},\"y\":{\"field\":\"value\"}},\"id\":\"1374\",\"type\":\"Scatter\"},{\"attributes\":{},\"id\":\"1247\",\"type\":\"BasicTickFormatter\"},{\"attributes\":{\"angle\":{\"value\":0.0},\"fill_alpha\":{\"value\":1.0},\"fill_color\":{\"value\":\"#fc4f30\"},\"hatch_alpha\":{\"value\":1.0},\"hatch_color\":{\"value\":\"#fc4f30\"},\"hatch_scale\":{\"value\":12.0},\"hatch_weight\":{\"value\":1.0},\"line_alpha\":{\"value\":1.0},\"line_cap\":{\"value\":\"butt\"},\"line_color\":{\"value\":\"#fc4f30\"},\"line_dash\":{\"value\":[]},\"line_dash_offset\":{\"value\":0},\"line_join\":{\"value\":\"bevel\"},\"line_width\":{\"value\":1},\"marker\":{\"value\":\"circle\"},\"size\":{\"value\":5.477225575051661},\"tags\":[\"apply_ranges\"],\"x\":{\"field\":\"Run\"},\"y\":{\"field\":\"value\"}},\"id\":\"1291\",\"type\":\"Scatter\"},{\"attributes\":{\"fill_alpha\":{\"value\":0.1},\"fill_color\":{\"value\":\"#8b8b8b\"},\"hatch_alpha\":{\"value\":0.1},\"hatch_color\":{\"value\":\"#8b8b8b\"},\"line_alpha\":{\"value\":0.1},\"line_color\":{\"value\":\"#8b8b8b\"},\"size\":{\"value\":5.477225575051661},\"tags\":[\"apply_ranges\"],\"x\":{\"field\":\"Run\"},\"y\":{\"field\":\"value\"}},\"id\":\"1346\",\"type\":\"Scatter\"},{\"attributes\":{\"axis_label\":\"Run\",\"coordinates\":null,\"formatter\":{\"id\":\"1244\"},\"group\":null,\"major_label_policy\":{\"id\":\"1245\"},\"ticker\":{\"id\":\"1223\"}},\"id\":\"1222\",\"type\":\"LinearAxis\"},{\"attributes\":{\"label\":{\"value\":\"Gamma100\"},\"renderers\":[{\"id\":\"1322\"}]},\"id\":\"1340\",\"type\":\"LegendItem\"},{\"attributes\":{\"coordinates\":null,\"data_source\":{\"id\":\"1270\"},\"glyph\":{\"id\":\"1273\"},\"group\":null,\"hover_glyph\":null,\"muted_glyph\":{\"id\":\"1275\"},\"name\":\"Gamma1\",\"nonselection_glyph\":{\"id\":\"1274\"},\"selection_glyph\":{\"id\":\"1291\"},\"view\":{\"id\":\"1277\"}},\"id\":\"1276\",\"type\":\"GlyphRenderer\"},{\"attributes\":{\"fill_alpha\":{\"value\":0.2},\"fill_color\":{\"value\":\"#6d904f\"},\"hatch_alpha\":{\"value\":0.2},\"hatch_color\":{\"value\":\"#6d904f\"},\"line_alpha\":{\"value\":0.2},\"line_color\":{\"value\":\"#6d904f\"},\"size\":{\"value\":5.477225575051661},\"tags\":[\"apply_ranges\"],\"x\":{\"field\":\"Run\"},\"y\":{\"field\":\"value\"}},\"id\":\"1321\",\"type\":\"Scatter\"},{\"attributes\":{\"label\":{\"value\":\"Alpha0.01\"},\"renderers\":[{\"id\":\"1348\"}]},\"id\":\"1368\",\"type\":\"LegendItem\"},{\"attributes\":{\"angle\":{\"value\":0.0},\"fill_alpha\":{\"value\":1.0},\"fill_color\":{\"value\":\"#17becf\"},\"hatch_alpha\":{\"value\":1.0},\"hatch_color\":{\"value\":\"#17becf\"},\"hatch_scale\":{\"value\":12.0},\"hatch_weight\":{\"value\":1.0},\"line_alpha\":{\"value\":1.0},\"line_cap\":{\"value\":\"butt\"},\"line_color\":{\"value\":\"#17becf\"},\"line_dash\":{\"value\":[]},\"line_dash_offset\":{\"value\":0},\"line_join\":{\"value\":\"bevel\"},\"line_width\":{\"value\":1},\"marker\":{\"value\":\"circle\"},\"size\":{\"value\":5.477225575051661},\"tags\":[\"apply_ranges\"],\"x\":{\"field\":\"Run\"},\"y\":{\"field\":\"value\"}},\"id\":\"1399\",\"type\":\"Scatter\"},{\"attributes\":{},\"id\":\"1245\",\"type\":\"AllLabels\"},{\"attributes\":{\"click_policy\":\"mute\",\"coordinates\":null,\"group\":null,\"items\":[{\"id\":\"1268\"},{\"id\":\"1290\"},{\"id\":\"1314\"},{\"id\":\"1340\"},{\"id\":\"1368\"},{\"id\":\"1398\"}],\"location\":[0,0],\"title\":\"Variable\"},\"id\":\"1267\",\"type\":\"Legend\"},{\"attributes\":{\"fill_alpha\":{\"value\":0.2},\"fill_color\":{\"value\":\"#30a2da\"},\"hatch_alpha\":{\"value\":0.2},\"hatch_color\":{\"value\":\"#30a2da\"},\"line_alpha\":{\"value\":0.2},\"line_color\":{\"value\":\"#30a2da\"},\"size\":{\"value\":5.477225575051661},\"tags\":[\"apply_ranges\"],\"x\":{\"field\":\"Run\"},\"y\":{\"field\":\"value\"}},\"id\":\"1254\",\"type\":\"Scatter\"},{\"attributes\":{\"label\":{\"value\":\"Gamma0.001\"},\"renderers\":[{\"id\":\"1255\"}]},\"id\":\"1268\",\"type\":\"LegendItem\"},{\"attributes\":{},\"id\":\"1223\",\"type\":\"BasicTicker\"},{\"attributes\":{\"coordinates\":null,\"data_source\":{\"id\":\"1292\"},\"glyph\":{\"id\":\"1295\"},\"group\":null,\"hover_glyph\":null,\"muted_glyph\":{\"id\":\"1297\"},\"name\":\"Gamma10\",\"nonselection_glyph\":{\"id\":\"1296\"},\"selection_glyph\":{\"id\":\"1315\"},\"view\":{\"id\":\"1299\"}},\"id\":\"1298\",\"type\":\"GlyphRenderer\"},{\"attributes\":{\"source\":{\"id\":\"1270\"}},\"id\":\"1277\",\"type\":\"CDSView\"},{\"attributes\":{\"bottom_units\":\"screen\",\"coordinates\":null,\"fill_alpha\":0.5,\"fill_color\":\"lightgrey\",\"group\":null,\"left_units\":\"screen\",\"level\":\"overlay\",\"line_alpha\":1.0,\"line_color\":\"black\",\"line_dash\":[4,4],\"line_width\":2,\"right_units\":\"screen\",\"syncable\":false,\"top_units\":\"screen\"},\"id\":\"1235\",\"type\":\"BoxAnnotation\"},{\"attributes\":{\"children\":[{\"id\":\"1213\"}],\"height\":300,\"margin\":[0,0,0,0],\"name\":\"Row01220\",\"sizing_mode\":\"fixed\",\"tags\":[\"embedded\"],\"width\":700},\"id\":\"1202\",\"type\":\"Row\"},{\"attributes\":{\"coordinates\":null,\"data_source\":{\"id\":\"1249\"},\"glyph\":{\"id\":\"1252\"},\"group\":null,\"hover_glyph\":null,\"muted_glyph\":{\"id\":\"1254\"},\"name\":\"Gamma0.001\",\"nonselection_glyph\":{\"id\":\"1253\"},\"selection_glyph\":{\"id\":\"1269\"},\"view\":{\"id\":\"1256\"}},\"id\":\"1255\",\"type\":\"GlyphRenderer\"},{\"attributes\":{\"data\":{\"Run\":{\"__ndarray__\":\"mpmZmZmZuT8zMzMzMzPDP5qZmZmZmck/AAAAAAAA0D8zMzMzMzPTP2ZmZmZmZtY/mpmZmZmZ2T/NzMzMzMzcPwAAAAAAAOA/mpmZmZmZ4T8zMzMzMzPjP83MzMzMzOQ/ZmZmZmZm5j8AAAAAAADoP5qZmZmZmek/\",\"dtype\":\"float64\",\"order\":\"little\",\"shape\":[15]},\"Variable\":[\"Gamma0.001\",\"Gamma0.001\",\"Gamma0.001\",\"Gamma0.001\",\"Gamma0.001\",\"Gamma0.001\",\"Gamma0.001\",\"Gamma0.001\",\"Gamma0.001\",\"Gamma0.001\",\"Gamma0.001\",\"Gamma0.001\",\"Gamma0.001\",\"Gamma0.001\",\"Gamma0.001\"],\"value\":{\"__ndarray__\":\"zcclW6ru0T8jed4goDLSPyN53iCgMtI/g3lQkv5i0T9jRV0MxOHSP/3a0/fi+NE/I3neIKAy0j8jed4goDLSPza7Pp+W49A/Y0VdDMTh0j8QeWnEf6TQP5YI9BX3G84/LIF06mSS0T//Nb4bL0TUPxuAnY+d49I/\",\"dtype\":\"float64\",\"order\":\"little\",\"shape\":[15]}},\"selected\":{\"id\":\"1250\"},\"selection_policy\":{\"id\":\"1264\"}},\"id\":\"1249\",\"type\":\"ColumnDataSource\"},{\"attributes\":{},\"id\":\"1232\",\"type\":\"WheelZoomTool\"},{\"attributes\":{\"end\":0.8300000000000001,\"reset_end\":0.8300000000000001,\"reset_start\":0.07,\"start\":0.07,\"tags\":[[[\"Run\",\"Run\",null]],[]]},\"id\":\"1203\",\"type\":\"Range1d\"},{\"attributes\":{\"fill_alpha\":{\"value\":0.2},\"fill_color\":{\"value\":\"#17becf\"},\"hatch_alpha\":{\"value\":0.2},\"hatch_color\":{\"value\":\"#17becf\"},\"line_alpha\":{\"value\":0.2},\"line_color\":{\"value\":\"#17becf\"},\"size\":{\"value\":5.477225575051661},\"tags\":[\"apply_ranges\"],\"x\":{\"field\":\"Run\"},\"y\":{\"field\":\"value\"}},\"id\":\"1375\",\"type\":\"Scatter\"},{\"attributes\":{},\"id\":\"1317\",\"type\":\"Selection\"},{\"attributes\":{\"source\":{\"id\":\"1292\"}},\"id\":\"1299\",\"type\":\"CDSView\"},{\"attributes\":{},\"id\":\"1293\",\"type\":\"Selection\"},{\"attributes\":{\"fill_alpha\":{\"value\":0.2},\"fill_color\":{\"value\":\"#8b8b8b\"},\"hatch_alpha\":{\"value\":0.2},\"hatch_color\":{\"value\":\"#8b8b8b\"},\"line_alpha\":{\"value\":0.2},\"line_color\":{\"value\":\"#8b8b8b\"},\"size\":{\"value\":5.477225575051661},\"tags\":[\"apply_ranges\"],\"x\":{\"field\":\"Run\"},\"y\":{\"field\":\"value\"}},\"id\":\"1347\",\"type\":\"Scatter\"},{\"attributes\":{},\"id\":\"1230\",\"type\":\"SaveTool\"},{\"attributes\":{\"coordinates\":null,\"data_source\":{\"id\":\"1370\"},\"glyph\":{\"id\":\"1373\"},\"group\":null,\"hover_glyph\":null,\"muted_glyph\":{\"id\":\"1375\"},\"name\":\"Alpha5\",\"nonselection_glyph\":{\"id\":\"1374\"},\"selection_glyph\":{\"id\":\"1399\"},\"view\":{\"id\":\"1377\"}},\"id\":\"1376\",\"type\":\"GlyphRenderer\"},{\"attributes\":{\"fill_color\":{\"value\":\"#30a2da\"},\"hatch_color\":{\"value\":\"#30a2da\"},\"line_color\":{\"value\":\"#30a2da\"},\"size\":{\"value\":5.477225575051661},\"tags\":[\"apply_ranges\"],\"x\":{\"field\":\"Run\"},\"y\":{\"field\":\"value\"}},\"id\":\"1252\",\"type\":\"Scatter\"},{\"attributes\":{\"coordinates\":null,\"data_source\":{\"id\":\"1342\"},\"glyph\":{\"id\":\"1345\"},\"group\":null,\"hover_glyph\":null,\"muted_glyph\":{\"id\":\"1347\"},\"name\":\"Alpha0.01\",\"nonselection_glyph\":{\"id\":\"1346\"},\"selection_glyph\":{\"id\":\"1369\"},\"view\":{\"id\":\"1349\"}},\"id\":\"1348\",\"type\":\"GlyphRenderer\"},{\"attributes\":{\"angle\":{\"value\":0.0},\"fill_alpha\":{\"value\":1.0},\"fill_color\":{\"value\":\"#6d904f\"},\"hatch_alpha\":{\"value\":1.0},\"hatch_color\":{\"value\":\"#6d904f\"},\"hatch_scale\":{\"value\":12.0},\"hatch_weight\":{\"value\":1.0},\"line_alpha\":{\"value\":1.0},\"line_cap\":{\"value\":\"butt\"},\"line_color\":{\"value\":\"#6d904f\"},\"line_dash\":{\"value\":[]},\"line_dash_offset\":{\"value\":0},\"line_join\":{\"value\":\"bevel\"},\"line_width\":{\"value\":1},\"marker\":{\"value\":\"circle\"},\"size\":{\"value\":5.477225575051661},\"tags\":[\"apply_ranges\"],\"x\":{\"field\":\"Run\"},\"y\":{\"field\":\"value\"}},\"id\":\"1341\",\"type\":\"Scatter\"},{\"attributes\":{},\"id\":\"1231\",\"type\":\"PanTool\"},{\"attributes\":{\"data\":{\"Run\":{\"__ndarray__\":\"mpmZmZmZuT8zMzMzMzPDP5qZmZmZmck/AAAAAAAA0D8zMzMzMzPTP2ZmZmZmZtY/mpmZmZmZ2T/NzMzMzMzcPwAAAAAAAOA/mpmZmZmZ4T8zMzMzMzPjP83MzMzMzOQ/ZmZmZmZm5j8AAAAAAADoP5qZmZmZmek/\",\"dtype\":\"float64\",\"order\":\"little\",\"shape\":[15]},\"Variable\":[\"Alpha0.01\",\"Alpha0.01\",\"Alpha0.01\",\"Alpha0.01\",\"Alpha0.01\",\"Alpha0.01\",\"Alpha0.01\",\"Alpha0.01\",\"Alpha0.01\",\"Alpha0.01\",\"Alpha0.01\",\"Alpha0.01\",\"Alpha0.01\",\"Alpha0.01\",\"Alpha0.01\"],\"value\":{\"__ndarray__\":\"Ocn8rXiazz8jed4goDLSPyN53iCgMtI/18r2eekd0T9jRV0MxOHSP9cYCKPA8tE/I3neIKAy0j8jed4goDLSP8lFs/0JANI/Y0VdDMTh0j8QeWnEf6TQP5YI9BX3G84/LIF06mSS0T8FD62hlk/UPxuAnY+d49I/\",\"dtype\":\"float64\",\"order\":\"little\",\"shape\":[15]}},\"selected\":{\"id\":\"1343\"},\"selection_policy\":{\"id\":\"1365\"}},\"id\":\"1342\",\"type\":\"ColumnDataSource\"},{\"attributes\":{},\"id\":\"1220\",\"type\":\"LinearScale\"},{\"attributes\":{\"axis_label\":\"\",\"coordinates\":null,\"formatter\":{\"id\":\"1247\"},\"group\":null,\"major_label_policy\":{\"id\":\"1248\"},\"ticker\":{\"id\":\"1227\"}},\"id\":\"1226\",\"type\":\"LinearAxis\"},{\"attributes\":{\"source\":{\"id\":\"1342\"}},\"id\":\"1349\",\"type\":\"CDSView\"},{\"attributes\":{\"data\":{\"Run\":{\"__ndarray__\":\"mpmZmZmZuT8zMzMzMzPDP5qZmZmZmck/AAAAAAAA0D8zMzMzMzPTP2ZmZmZmZtY/mpmZmZmZ2T/NzMzMzMzcPwAAAAAAAOA/mpmZmZmZ4T8zMzMzMzPjP83MzMzMzOQ/ZmZmZmZm5j8AAAAAAADoP5qZmZmZmek/\",\"dtype\":\"float64\",\"order\":\"little\",\"shape\":[15]},\"Variable\":[\"Gamma10\",\"Gamma10\",\"Gamma10\",\"Gamma10\",\"Gamma10\",\"Gamma10\",\"Gamma10\",\"Gamma10\",\"Gamma10\",\"Gamma10\",\"Gamma10\",\"Gamma10\",\"Gamma10\",\"Gamma10\",\"Gamma10\"],\"value\":{\"__ndarray__\":\"oNtHtSiiwz931vHxTALSPxkEQD9NQ9I/CQmPDxIRxD/4Yo10UOfSP9slJnOz8NE/5udU5l5nxT8jed4goDLSP4JJjxqq39A/G4Cdj53j0j/HEO4S9djQP5YI9BX3G84/LIF06mSS0T+XibXo4RzUP2NFXQzE4dI/\",\"dtype\":\"float64\",\"order\":\"little\",\"shape\":[15]}},\"selected\":{\"id\":\"1293\"},\"selection_policy\":{\"id\":\"1311\"}},\"id\":\"1292\",\"type\":\"ColumnDataSource\"},{\"attributes\":{\"source\":{\"id\":\"1249\"}},\"id\":\"1256\",\"type\":\"CDSView\"},{\"attributes\":{},\"id\":\"1371\",\"type\":\"Selection\"},{\"attributes\":{},\"id\":\"1264\",\"type\":\"UnionRenderers\"},{\"attributes\":{},\"id\":\"1271\",\"type\":\"Selection\"},{\"attributes\":{\"axis\":{\"id\":\"1222\"},\"coordinates\":null,\"grid_line_color\":null,\"group\":null,\"ticker\":null},\"id\":\"1225\",\"type\":\"Grid\"}],\"root_ids\":[\"1202\"]},\"title\":\"Bokeh Application\",\"version\":\"2.4.3\"}};\n",
       "    var render_items = [{\"docid\":\"83316927-b2dd-4bfa-8e18-d307ca34a945\",\"root_ids\":[\"1202\"],\"roots\":{\"1202\":\"a34c9814-9151-4509-92b6-20d25b42b5ba\"}}];\n",
       "    root.Bokeh.embed.embed_items_notebook(docs_json, render_items);\n",
       "    for (const render_item of render_items) {\n",
       "      for (const root_id of render_item.root_ids) {\n",
       "\tconst id_el = document.getElementById(root_id)\n",
       "\tif (id_el.children.length && (id_el.children[0].className === 'bk-root')) {\n",
       "\t  const root_el = id_el.children[0]\n",
       "\t  root_el.id = root_el.id + '-rendered'\n",
       "\t}\n",
       "      }\n",
       "    }\n",
       "  }\n",
       "  if (root.Bokeh !== undefined && root.Bokeh.Panel !== undefined) {\n",
       "    embed_document(root);\n",
       "  } else {\n",
       "    var attempts = 0;\n",
       "    var timer = setInterval(function(root) {\n",
       "      if (root.Bokeh !== undefined && root.Bokeh.Panel !== undefined) {\n",
       "        clearInterval(timer);\n",
       "        embed_document(root);\n",
       "      } else if (document.readyState == \"complete\") {\n",
       "        attempts++;\n",
       "        if (attempts > 200) {\n",
       "          clearInterval(timer);\n",
       "          console.log(\"Bokeh: ERROR: Unable to run BokehJS code because BokehJS library is missing\");\n",
       "        }\n",
       "      }\n",
       "    }, 25, root)\n",
       "  }\n",
       "})(window);</script>"
      ],
      "text/plain": [
       ":NdOverlay   [Variable]\n",
       "   :Scatter   [Run]   (value)"
      ]
     },
     "execution_count": 5,
     "metadata": {
      "application/vnd.holoviews_exec.v0+json": {
       "id": "1202"
      }
     },
     "output_type": "execute_result"
    }
   ],
   "source": [
    "data70=pd.read_csv('Data_frame_for_plot_of_alpha_gamma')\n",
    "data70.hvplot(x='Run', y=[\"Gamma0.001\",\"Gamma1\",\"Gamma10\",\"Gamma100\",\"Alpha0.01\",\"Alpha5\"], kind='scatter')"
   ]
  },
  {
   "cell_type": "markdown",
   "metadata": {},
   "source": [
    "After selecting parameters that seemed to work well I chose best parameters for the clusterer.\n",
    "I chose kmeans++, and the elkan algorithm. \n",
    "It was then time to fit my model and see how well it worked."
   ]
  },
  {
   "cell_type": "markdown",
   "metadata": {},
   "source": [
    "## Results and conclusion\n",
    "\n",
    "No matter what parameters I changed, or how I split my data. My model performance was average at best.\n",
    "\n",
    "![alt text](Final_clustering.png)\n",
    "\n",
    "The first prediction or so was usually pretty high for accuracy, but then it quickly dipped and stayed low. \n",
    "This leads me to believe that Kmeans was not an appropriate choice for my data set. But I have come away from this project with stronger knowledge of Kmeans and how to apply it. \n",
    "I did notice with repetition that the model also continually misclassified category 2. Which means the features are not different enough even when scaled to be able to be distinguished from each other. \n",
    "I plotted some results obtained after that feature was dropped. But they are not too different from my original results.\n",
    "This problem was probably better suited for a supervised learning algorithm. "
   ]
  },
  {
   "cell_type": "code",
   "execution_count": 6,
   "metadata": {},
   "outputs": [
    {
     "data": {},
     "metadata": {},
     "output_type": "display_data"
    },
    {
     "data": {
      "application/vnd.holoviews_exec.v0+json": "",
      "text/html": [
       "<div id='1525'>\n",
       "  <div class=\"bk-root\" id=\"09201743-5265-4d68-99b1-f5e99eb910b6\" data-root-id=\"1525\"></div>\n",
       "</div>\n",
       "<script type=\"application/javascript\">(function(root) {\n",
       "  function embed_document(root) {\n",
       "    var docs_json = {\"458f3a04-7f14-42b5-b00d-a4b9df7b6a7e\":{\"defs\":[{\"extends\":null,\"module\":null,\"name\":\"ReactiveHTML1\",\"overrides\":[],\"properties\":[]},{\"extends\":null,\"module\":null,\"name\":\"FlexBox1\",\"overrides\":[],\"properties\":[{\"default\":\"flex-start\",\"kind\":null,\"name\":\"align_content\"},{\"default\":\"flex-start\",\"kind\":null,\"name\":\"align_items\"},{\"default\":\"row\",\"kind\":null,\"name\":\"flex_direction\"},{\"default\":\"wrap\",\"kind\":null,\"name\":\"flex_wrap\"},{\"default\":\"flex-start\",\"kind\":null,\"name\":\"justify_content\"}]},{\"extends\":null,\"module\":null,\"name\":\"GridStack1\",\"overrides\":[],\"properties\":[{\"default\":\"warn\",\"kind\":null,\"name\":\"mode\"},{\"default\":null,\"kind\":null,\"name\":\"ncols\"},{\"default\":null,\"kind\":null,\"name\":\"nrows\"},{\"default\":true,\"kind\":null,\"name\":\"allow_resize\"},{\"default\":true,\"kind\":null,\"name\":\"allow_drag\"},{\"default\":[],\"kind\":null,\"name\":\"state\"}]},{\"extends\":null,\"module\":null,\"name\":\"click1\",\"overrides\":[],\"properties\":[{\"default\":\"\",\"kind\":null,\"name\":\"terminal_output\"},{\"default\":\"\",\"kind\":null,\"name\":\"debug_name\"},{\"default\":0,\"kind\":null,\"name\":\"clears\"}]},{\"extends\":null,\"module\":null,\"name\":\"NotificationAreaBase1\",\"overrides\":[],\"properties\":[{\"default\":\"bottom-right\",\"kind\":null,\"name\":\"position\"},{\"default\":0,\"kind\":null,\"name\":\"_clear\"}]},{\"extends\":null,\"module\":null,\"name\":\"NotificationArea1\",\"overrides\":[],\"properties\":[{\"default\":[],\"kind\":null,\"name\":\"notifications\"},{\"default\":\"bottom-right\",\"kind\":null,\"name\":\"position\"},{\"default\":0,\"kind\":null,\"name\":\"_clear\"},{\"default\":[{\"background\":\"#ffc107\",\"icon\":{\"className\":\"fas fa-exclamation-triangle\",\"color\":\"white\",\"tagName\":\"i\"},\"type\":\"warning\"},{\"background\":\"#007bff\",\"icon\":{\"className\":\"fas fa-info-circle\",\"color\":\"white\",\"tagName\":\"i\"},\"type\":\"info\"}],\"kind\":null,\"name\":\"types\"}]},{\"extends\":null,\"module\":null,\"name\":\"Notification\",\"overrides\":[],\"properties\":[{\"default\":null,\"kind\":null,\"name\":\"background\"},{\"default\":3000,\"kind\":null,\"name\":\"duration\"},{\"default\":null,\"kind\":null,\"name\":\"icon\"},{\"default\":\"\",\"kind\":null,\"name\":\"message\"},{\"default\":null,\"kind\":null,\"name\":\"notification_type\"},{\"default\":false,\"kind\":null,\"name\":\"_destroyed\"}]},{\"extends\":null,\"module\":null,\"name\":\"TemplateActions1\",\"overrides\":[],\"properties\":[{\"default\":0,\"kind\":null,\"name\":\"open_modal\"},{\"default\":0,\"kind\":null,\"name\":\"close_modal\"}]},{\"extends\":null,\"module\":null,\"name\":\"MaterialTemplateActions1\",\"overrides\":[],\"properties\":[{\"default\":0,\"kind\":null,\"name\":\"open_modal\"},{\"default\":0,\"kind\":null,\"name\":\"close_modal\"}]}],\"roots\":{\"references\":[{\"attributes\":{},\"id\":\"1548\",\"type\":\"SaveTool\"},{\"attributes\":{\"coordinates\":null,\"group\":null,\"text_color\":\"black\",\"text_font_size\":\"12pt\"},\"id\":\"1532\",\"type\":\"Title\"},{\"attributes\":{},\"id\":\"1575\",\"type\":\"AllLabels\"},{\"attributes\":{\"coordinates\":null,\"data_source\":{\"id\":\"1561\"},\"glyph\":{\"id\":\"1564\"},\"group\":null,\"hover_glyph\":null,\"muted_glyph\":{\"id\":\"1566\"},\"nonselection_glyph\":{\"id\":\"1565\"},\"selection_glyph\":{\"id\":\"1569\"},\"view\":{\"id\":\"1568\"}},\"id\":\"1567\",\"type\":\"GlyphRenderer\"},{\"attributes\":{\"axis\":{\"id\":\"1544\"},\"coordinates\":null,\"dimension\":1,\"grid_line_color\":null,\"group\":null,\"ticker\":null},\"id\":\"1547\",\"type\":\"Grid\"},{\"attributes\":{},\"id\":\"1574\",\"type\":\"BasicTickFormatter\"},{\"attributes\":{},\"id\":\"1572\",\"type\":\"AllLabels\"},{\"attributes\":{},\"id\":\"1587\",\"type\":\"UnionRenderers\"},{\"attributes\":{\"children\":[{\"id\":\"1531\"}],\"height\":300,\"margin\":[0,0,0,0],\"name\":\"Row01388\",\"sizing_mode\":\"fixed\",\"tags\":[\"embedded\"],\"width\":700},\"id\":\"1525\",\"type\":\"Row\"},{\"attributes\":{\"fill_alpha\":{\"value\":0.2},\"fill_color\":{\"value\":\"#30a2da\"},\"hatch_alpha\":{\"value\":0.2},\"hatch_color\":{\"value\":\"#30a2da\"},\"line_alpha\":{\"value\":0.2},\"line_color\":{\"value\":\"#30a2da\"},\"size\":{\"value\":5.477225575051661},\"tags\":[\"apply_ranges\"],\"x\":{\"field\":\"Run\"},\"y\":{\"field\":\"elkan\"}},\"id\":\"1566\",\"type\":\"Scatter\"},{\"attributes\":{\"active_drag\":{\"id\":\"1549\"},\"active_scroll\":{\"id\":\"1550\"},\"tools\":[{\"id\":\"1530\"},{\"id\":\"1548\"},{\"id\":\"1549\"},{\"id\":\"1550\"},{\"id\":\"1551\"},{\"id\":\"1552\"}]},\"id\":\"1554\",\"type\":\"Toolbar\"},{\"attributes\":{\"axis_label\":\"Run\",\"coordinates\":null,\"formatter\":{\"id\":\"1571\"},\"group\":null,\"major_label_policy\":{\"id\":\"1572\"},\"ticker\":{\"id\":\"1541\"}},\"id\":\"1540\",\"type\":\"LinearAxis\"},{\"attributes\":{\"data\":{\"Run\":{\"__ndarray__\":\"mpmZmZmZuT8AAAAAAADAPzMzMzMzM8M/ZmZmZmZmxj+amZmZmZnJP83MzMzMzMw/AAAAAAAA0D8zMzMzMzPTP83MzMzMzNQ/ZmZmZmZm1j+amZmZmZnZP83MzMzMzNw/AAAAAAAA4D8=\",\"dtype\":\"float64\",\"order\":\"little\",\"shape\":[13]},\"elkan\":{\"__ndarray__\":\"08RhrLb+1j8SfnIh6mbQPyMFJPzkQsQ/V3Y8p5ICsj/V1t8e2OjNP5Q4jNXW364/8JMLUTeDtj+UOIzV1t+uPzmM1dbfHsg/UEkBCT+5sD93ReZLE4fRP/bARu+KzLc/af3tgY3etT8=\",\"dtype\":\"float64\",\"order\":\"little\",\"shape\":[13]}},\"selected\":{\"id\":\"1562\"},\"selection_policy\":{\"id\":\"1587\"}},\"id\":\"1561\",\"type\":\"ColumnDataSource\"},{\"attributes\":{\"fill_color\":{\"value\":\"#30a2da\"},\"hatch_color\":{\"value\":\"#30a2da\"},\"line_color\":{\"value\":\"#30a2da\"},\"size\":{\"value\":5.477225575051661},\"tags\":[\"apply_ranges\"],\"x\":{\"field\":\"Run\"},\"y\":{\"field\":\"elkan\"}},\"id\":\"1564\",\"type\":\"Scatter\"},{\"attributes\":{},\"id\":\"1552\",\"type\":\"ResetTool\"},{\"attributes\":{\"end\":0.3891959798994975,\"reset_end\":0.3891959798994975,\"reset_start\":0.03040201005025121,\"start\":0.03040201005025121,\"tags\":[[[\"elkan\",\"elkan\",null]],{\"autorange\":false,\"invert_yaxis\":false}]},\"id\":\"1527\",\"type\":\"Range1d\"},{\"attributes\":{\"source\":{\"id\":\"1561\"}},\"id\":\"1568\",\"type\":\"CDSView\"},{\"attributes\":{},\"id\":\"1541\",\"type\":\"BasicTicker\"},{\"attributes\":{\"axis_label\":\"elkan\",\"coordinates\":null,\"formatter\":{\"id\":\"1574\"},\"group\":null,\"major_label_policy\":{\"id\":\"1575\"},\"ticker\":{\"id\":\"1545\"}},\"id\":\"1544\",\"type\":\"LinearAxis\"},{\"attributes\":{},\"id\":\"1545\",\"type\":\"BasicTicker\"},{\"attributes\":{\"callback\":null,\"renderers\":[{\"id\":\"1567\"}],\"tags\":[\"hv_created\"],\"tooltips\":[[\"Run\",\"@{Run}\"],[\"elkan\",\"@{elkan}\"]]},\"id\":\"1530\",\"type\":\"HoverTool\"},{\"attributes\":{\"overlay\":{\"id\":\"1553\"}},\"id\":\"1551\",\"type\":\"BoxZoomTool\"},{\"attributes\":{\"end\":0.5171428571428571,\"reset_end\":0.5171428571428571,\"reset_start\":0.08285714285714287,\"start\":0.08285714285714287,\"tags\":[[[\"Run\",\"Run\",null]],[]]},\"id\":\"1526\",\"type\":\"Range1d\"},{\"attributes\":{\"below\":[{\"id\":\"1540\"}],\"center\":[{\"id\":\"1543\"},{\"id\":\"1547\"}],\"height\":300,\"left\":[{\"id\":\"1544\"}],\"margin\":[5,5,5,5],\"min_border_bottom\":10,\"min_border_left\":10,\"min_border_right\":10,\"min_border_top\":10,\"output_backend\":\"webgl\",\"renderers\":[{\"id\":\"1567\"}],\"sizing_mode\":\"fixed\",\"title\":{\"id\":\"1532\"},\"toolbar\":{\"id\":\"1554\"},\"width\":700,\"x_range\":{\"id\":\"1526\"},\"x_scale\":{\"id\":\"1538\"},\"y_range\":{\"id\":\"1527\"},\"y_scale\":{\"id\":\"1539\"}},\"id\":\"1531\",\"subtype\":\"Figure\",\"type\":\"Plot\"},{\"attributes\":{},\"id\":\"1549\",\"type\":\"PanTool\"},{\"attributes\":{},\"id\":\"1550\",\"type\":\"WheelZoomTool\"},{\"attributes\":{},\"id\":\"1539\",\"type\":\"LinearScale\"},{\"attributes\":{\"angle\":{\"value\":0.0},\"fill_alpha\":{\"value\":1.0},\"fill_color\":{\"value\":\"#30a2da\"},\"hatch_alpha\":{\"value\":1.0},\"hatch_color\":{\"value\":\"#30a2da\"},\"hatch_scale\":{\"value\":12.0},\"hatch_weight\":{\"value\":1.0},\"line_alpha\":{\"value\":1.0},\"line_cap\":{\"value\":\"butt\"},\"line_color\":{\"value\":\"#30a2da\"},\"line_dash\":{\"value\":[]},\"line_dash_offset\":{\"value\":0},\"line_join\":{\"value\":\"bevel\"},\"line_width\":{\"value\":1},\"marker\":{\"value\":\"circle\"},\"size\":{\"value\":5.477225575051661},\"tags\":[\"apply_ranges\"],\"x\":{\"field\":\"Run\"},\"y\":{\"field\":\"elkan\"}},\"id\":\"1569\",\"type\":\"Scatter\"},{\"attributes\":{\"axis\":{\"id\":\"1540\"},\"coordinates\":null,\"grid_line_color\":null,\"group\":null,\"ticker\":null},\"id\":\"1543\",\"type\":\"Grid\"},{\"attributes\":{},\"id\":\"1562\",\"type\":\"Selection\"},{\"attributes\":{\"fill_alpha\":{\"value\":0.1},\"fill_color\":{\"value\":\"#30a2da\"},\"hatch_alpha\":{\"value\":0.1},\"hatch_color\":{\"value\":\"#30a2da\"},\"line_alpha\":{\"value\":0.1},\"line_color\":{\"value\":\"#30a2da\"},\"size\":{\"value\":5.477225575051661},\"tags\":[\"apply_ranges\"],\"x\":{\"field\":\"Run\"},\"y\":{\"field\":\"elkan\"}},\"id\":\"1565\",\"type\":\"Scatter\"},{\"attributes\":{},\"id\":\"1571\",\"type\":\"BasicTickFormatter\"},{\"attributes\":{\"bottom_units\":\"screen\",\"coordinates\":null,\"fill_alpha\":0.5,\"fill_color\":\"lightgrey\",\"group\":null,\"left_units\":\"screen\",\"level\":\"overlay\",\"line_alpha\":1.0,\"line_color\":\"black\",\"line_dash\":[4,4],\"line_width\":2,\"right_units\":\"screen\",\"syncable\":false,\"top_units\":\"screen\"},\"id\":\"1553\",\"type\":\"BoxAnnotation\"},{\"attributes\":{},\"id\":\"1538\",\"type\":\"LinearScale\"}],\"root_ids\":[\"1525\"]},\"title\":\"Bokeh Application\",\"version\":\"2.4.3\"}};\n",
       "    var render_items = [{\"docid\":\"458f3a04-7f14-42b5-b00d-a4b9df7b6a7e\",\"root_ids\":[\"1525\"],\"roots\":{\"1525\":\"09201743-5265-4d68-99b1-f5e99eb910b6\"}}];\n",
       "    root.Bokeh.embed.embed_items_notebook(docs_json, render_items);\n",
       "    for (const render_item of render_items) {\n",
       "      for (const root_id of render_item.root_ids) {\n",
       "\tconst id_el = document.getElementById(root_id)\n",
       "\tif (id_el.children.length && (id_el.children[0].className === 'bk-root')) {\n",
       "\t  const root_el = id_el.children[0]\n",
       "\t  root_el.id = root_el.id + '-rendered'\n",
       "\t}\n",
       "      }\n",
       "    }\n",
       "  }\n",
       "  if (root.Bokeh !== undefined && root.Bokeh.Panel !== undefined) {\n",
       "    embed_document(root);\n",
       "  } else {\n",
       "    var attempts = 0;\n",
       "    var timer = setInterval(function(root) {\n",
       "      if (root.Bokeh !== undefined && root.Bokeh.Panel !== undefined) {\n",
       "        clearInterval(timer);\n",
       "        embed_document(root);\n",
       "      } else if (document.readyState == \"complete\") {\n",
       "        attempts++;\n",
       "        if (attempts > 200) {\n",
       "          clearInterval(timer);\n",
       "          console.log(\"Bokeh: ERROR: Unable to run BokehJS code because BokehJS library is missing\");\n",
       "        }\n",
       "      }\n",
       "    }, 25, root)\n",
       "  }\n",
       "})(window);</script>"
      ],
      "text/plain": [
       ":Scatter   [Run]   (elkan)"
      ]
     },
     "execution_count": 6,
     "metadata": {
      "application/vnd.holoviews_exec.v0+json": {
       "id": "1525"
      }
     },
     "output_type": "execute_result"
    }
   ],
   "source": [
    "data70=pd.read_csv('result_values_final')\n",
    "data70.hvplot(x='Run', y=[\"elkan\"], kind='scatter')"
   ]
  },
  {
   "cell_type": "markdown",
   "metadata": {},
   "source": [
    "Origial Results above, after removal results below. "
   ]
  },
  {
   "cell_type": "code",
   "execution_count": 7,
   "metadata": {},
   "outputs": [
    {
     "data": {},
     "metadata": {},
     "output_type": "display_data"
    },
    {
     "data": {
      "application/vnd.holoviews_exec.v0+json": "",
      "text/html": [
       "<div id='1641'>\n",
       "  <div class=\"bk-root\" id=\"4dd83994-26ae-4a54-922c-994db98bc2c9\" data-root-id=\"1641\"></div>\n",
       "</div>\n",
       "<script type=\"application/javascript\">(function(root) {\n",
       "  function embed_document(root) {\n",
       "    var docs_json = {\"76e51745-f8df-4d32-9c19-5cd882be7982\":{\"defs\":[{\"extends\":null,\"module\":null,\"name\":\"ReactiveHTML1\",\"overrides\":[],\"properties\":[]},{\"extends\":null,\"module\":null,\"name\":\"FlexBox1\",\"overrides\":[],\"properties\":[{\"default\":\"flex-start\",\"kind\":null,\"name\":\"align_content\"},{\"default\":\"flex-start\",\"kind\":null,\"name\":\"align_items\"},{\"default\":\"row\",\"kind\":null,\"name\":\"flex_direction\"},{\"default\":\"wrap\",\"kind\":null,\"name\":\"flex_wrap\"},{\"default\":\"flex-start\",\"kind\":null,\"name\":\"justify_content\"}]},{\"extends\":null,\"module\":null,\"name\":\"GridStack1\",\"overrides\":[],\"properties\":[{\"default\":\"warn\",\"kind\":null,\"name\":\"mode\"},{\"default\":null,\"kind\":null,\"name\":\"ncols\"},{\"default\":null,\"kind\":null,\"name\":\"nrows\"},{\"default\":true,\"kind\":null,\"name\":\"allow_resize\"},{\"default\":true,\"kind\":null,\"name\":\"allow_drag\"},{\"default\":[],\"kind\":null,\"name\":\"state\"}]},{\"extends\":null,\"module\":null,\"name\":\"click1\",\"overrides\":[],\"properties\":[{\"default\":\"\",\"kind\":null,\"name\":\"terminal_output\"},{\"default\":\"\",\"kind\":null,\"name\":\"debug_name\"},{\"default\":0,\"kind\":null,\"name\":\"clears\"}]},{\"extends\":null,\"module\":null,\"name\":\"NotificationAreaBase1\",\"overrides\":[],\"properties\":[{\"default\":\"bottom-right\",\"kind\":null,\"name\":\"position\"},{\"default\":0,\"kind\":null,\"name\":\"_clear\"}]},{\"extends\":null,\"module\":null,\"name\":\"NotificationArea1\",\"overrides\":[],\"properties\":[{\"default\":[],\"kind\":null,\"name\":\"notifications\"},{\"default\":\"bottom-right\",\"kind\":null,\"name\":\"position\"},{\"default\":0,\"kind\":null,\"name\":\"_clear\"},{\"default\":[{\"background\":\"#ffc107\",\"icon\":{\"className\":\"fas fa-exclamation-triangle\",\"color\":\"white\",\"tagName\":\"i\"},\"type\":\"warning\"},{\"background\":\"#007bff\",\"icon\":{\"className\":\"fas fa-info-circle\",\"color\":\"white\",\"tagName\":\"i\"},\"type\":\"info\"}],\"kind\":null,\"name\":\"types\"}]},{\"extends\":null,\"module\":null,\"name\":\"Notification\",\"overrides\":[],\"properties\":[{\"default\":null,\"kind\":null,\"name\":\"background\"},{\"default\":3000,\"kind\":null,\"name\":\"duration\"},{\"default\":null,\"kind\":null,\"name\":\"icon\"},{\"default\":\"\",\"kind\":null,\"name\":\"message\"},{\"default\":null,\"kind\":null,\"name\":\"notification_type\"},{\"default\":false,\"kind\":null,\"name\":\"_destroyed\"}]},{\"extends\":null,\"module\":null,\"name\":\"TemplateActions1\",\"overrides\":[],\"properties\":[{\"default\":0,\"kind\":null,\"name\":\"open_modal\"},{\"default\":0,\"kind\":null,\"name\":\"close_modal\"}]},{\"extends\":null,\"module\":null,\"name\":\"MaterialTemplateActions1\",\"overrides\":[],\"properties\":[{\"default\":0,\"kind\":null,\"name\":\"open_modal\"},{\"default\":0,\"kind\":null,\"name\":\"close_modal\"}]}],\"roots\":{\"references\":[{\"attributes\":{\"source\":{\"id\":\"1677\"}},\"id\":\"1684\",\"type\":\"CDSView\"},{\"attributes\":{},\"id\":\"1703\",\"type\":\"UnionRenderers\"},{\"attributes\":{},\"id\":\"1668\",\"type\":\"ResetTool\"},{\"attributes\":{\"end\":0.5171428571428571,\"reset_end\":0.5171428571428571,\"reset_start\":0.08285714285714287,\"start\":0.08285714285714287,\"tags\":[[[\"Run\",\"Run\",null]],[]]},\"id\":\"1642\",\"type\":\"Range1d\"},{\"attributes\":{\"fill_alpha\":{\"value\":0.1},\"fill_color\":{\"value\":\"#30a2da\"},\"hatch_alpha\":{\"value\":0.1},\"hatch_color\":{\"value\":\"#30a2da\"},\"line_alpha\":{\"value\":0.1},\"line_color\":{\"value\":\"#30a2da\"},\"size\":{\"value\":5.477225575051661},\"tags\":[\"apply_ranges\"],\"x\":{\"field\":\"Run\"},\"y\":{\"field\":\"elkan\"}},\"id\":\"1681\",\"type\":\"Scatter\"},{\"attributes\":{},\"id\":\"1688\",\"type\":\"AllLabels\"},{\"attributes\":{\"angle\":{\"value\":0.0},\"fill_alpha\":{\"value\":1.0},\"fill_color\":{\"value\":\"#30a2da\"},\"hatch_alpha\":{\"value\":1.0},\"hatch_color\":{\"value\":\"#30a2da\"},\"hatch_scale\":{\"value\":12.0},\"hatch_weight\":{\"value\":1.0},\"line_alpha\":{\"value\":1.0},\"line_cap\":{\"value\":\"butt\"},\"line_color\":{\"value\":\"#30a2da\"},\"line_dash\":{\"value\":[]},\"line_dash_offset\":{\"value\":0},\"line_join\":{\"value\":\"bevel\"},\"line_width\":{\"value\":1},\"marker\":{\"value\":\"circle\"},\"size\":{\"value\":5.477225575051661},\"tags\":[\"apply_ranges\"],\"x\":{\"field\":\"Run\"},\"y\":{\"field\":\"elkan\"}},\"id\":\"1685\",\"type\":\"Scatter\"},{\"attributes\":{\"bottom_units\":\"screen\",\"coordinates\":null,\"fill_alpha\":0.5,\"fill_color\":\"lightgrey\",\"group\":null,\"left_units\":\"screen\",\"level\":\"overlay\",\"line_alpha\":1.0,\"line_color\":\"black\",\"line_dash\":[4,4],\"line_width\":2,\"right_units\":\"screen\",\"syncable\":false,\"top_units\":\"screen\"},\"id\":\"1669\",\"type\":\"BoxAnnotation\"},{\"attributes\":{},\"id\":\"1687\",\"type\":\"BasicTickFormatter\"},{\"attributes\":{},\"id\":\"1665\",\"type\":\"PanTool\"},{\"attributes\":{},\"id\":\"1690\",\"type\":\"BasicTickFormatter\"},{\"attributes\":{\"coordinates\":null,\"group\":null,\"text_color\":\"black\",\"text_font_size\":\"12pt\"},\"id\":\"1648\",\"type\":\"Title\"},{\"attributes\":{},\"id\":\"1654\",\"type\":\"LinearScale\"},{\"attributes\":{},\"id\":\"1664\",\"type\":\"SaveTool\"},{\"attributes\":{},\"id\":\"1691\",\"type\":\"AllLabels\"},{\"attributes\":{\"coordinates\":null,\"data_source\":{\"id\":\"1677\"},\"glyph\":{\"id\":\"1680\"},\"group\":null,\"hover_glyph\":null,\"muted_glyph\":{\"id\":\"1682\"},\"nonselection_glyph\":{\"id\":\"1681\"},\"selection_glyph\":{\"id\":\"1685\"},\"view\":{\"id\":\"1684\"}},\"id\":\"1683\",\"type\":\"GlyphRenderer\"},{\"attributes\":{\"active_drag\":{\"id\":\"1665\"},\"active_scroll\":{\"id\":\"1666\"},\"tools\":[{\"id\":\"1646\"},{\"id\":\"1664\"},{\"id\":\"1665\"},{\"id\":\"1666\"},{\"id\":\"1667\"},{\"id\":\"1668\"}]},\"id\":\"1670\",\"type\":\"Toolbar\"},{\"attributes\":{\"data\":{\"Run\":{\"__ndarray__\":\"mpmZmZmZuT8AAAAAAADAPzMzMzMzM8M/ZmZmZmZmxj+amZmZmZnJP83MzMzMzMw/AAAAAAAA0D8zMzMzMzPTP83MzMzMzNQ/ZmZmZmZm1j+amZmZmZnZP83MzMzMzNw/AAAAAAAA4D8=\",\"dtype\":\"float64\",\"order\":\"little\",\"shape\":[13]},\"elkan\":{\"__ndarray__\":\"Hz1beZe10z/wTagCXbexPxqD7FW/KNI/U6DrNoLNuD971S+K5D7JPxCqQNdtBMs/HR4eHh4erj971S+K5D7JP1Og6zaCzcg/hUkN0ZRYzD9/rtsINmPAP7rL2un4B8c/usva6fgHtz8=\",\"dtype\":\"float64\",\"order\":\"little\",\"shape\":[13]}},\"selected\":{\"id\":\"1678\"},\"selection_policy\":{\"id\":\"1703\"}},\"id\":\"1677\",\"type\":\"ColumnDataSource\"},{\"attributes\":{\"children\":[{\"id\":\"1647\"}],\"height\":300,\"margin\":[0,0,0,0],\"name\":\"Row01493\",\"sizing_mode\":\"fixed\",\"tags\":[\"embedded\"],\"width\":700},\"id\":\"1641\",\"type\":\"Row\"},{\"attributes\":{},\"id\":\"1678\",\"type\":\"Selection\"},{\"attributes\":{\"axis\":{\"id\":\"1656\"},\"coordinates\":null,\"grid_line_color\":null,\"group\":null,\"ticker\":null},\"id\":\"1659\",\"type\":\"Grid\"},{\"attributes\":{\"axis_label\":\"elkan\",\"coordinates\":null,\"formatter\":{\"id\":\"1690\"},\"group\":null,\"major_label_policy\":{\"id\":\"1691\"},\"ticker\":{\"id\":\"1661\"}},\"id\":\"1660\",\"type\":\"LinearAxis\"},{\"attributes\":{\"fill_alpha\":{\"value\":0.2},\"fill_color\":{\"value\":\"#30a2da\"},\"hatch_alpha\":{\"value\":0.2},\"hatch_color\":{\"value\":\"#30a2da\"},\"line_alpha\":{\"value\":0.2},\"line_color\":{\"value\":\"#30a2da\"},\"size\":{\"value\":5.477225575051661},\"tags\":[\"apply_ranges\"],\"x\":{\"field\":\"Run\"},\"y\":{\"field\":\"elkan\"}},\"id\":\"1682\",\"type\":\"Scatter\"},{\"attributes\":{\"end\":0.3328719723183391,\"reset_end\":0.3328719723183391,\"reset_start\":0.03391003460207612,\"start\":0.03391003460207612,\"tags\":[[[\"elkan\",\"elkan\",null]],{\"autorange\":false,\"invert_yaxis\":false}]},\"id\":\"1643\",\"type\":\"Range1d\"},{\"attributes\":{\"fill_color\":{\"value\":\"#30a2da\"},\"hatch_color\":{\"value\":\"#30a2da\"},\"line_color\":{\"value\":\"#30a2da\"},\"size\":{\"value\":5.477225575051661},\"tags\":[\"apply_ranges\"],\"x\":{\"field\":\"Run\"},\"y\":{\"field\":\"elkan\"}},\"id\":\"1680\",\"type\":\"Scatter\"},{\"attributes\":{\"overlay\":{\"id\":\"1669\"}},\"id\":\"1667\",\"type\":\"BoxZoomTool\"},{\"attributes\":{\"axis_label\":\"Run\",\"coordinates\":null,\"formatter\":{\"id\":\"1687\"},\"group\":null,\"major_label_policy\":{\"id\":\"1688\"},\"ticker\":{\"id\":\"1657\"}},\"id\":\"1656\",\"type\":\"LinearAxis\"},{\"attributes\":{},\"id\":\"1666\",\"type\":\"WheelZoomTool\"},{\"attributes\":{\"callback\":null,\"renderers\":[{\"id\":\"1683\"}],\"tags\":[\"hv_created\"],\"tooltips\":[[\"Run\",\"@{Run}\"],[\"elkan\",\"@{elkan}\"]]},\"id\":\"1646\",\"type\":\"HoverTool\"},{\"attributes\":{\"below\":[{\"id\":\"1656\"}],\"center\":[{\"id\":\"1659\"},{\"id\":\"1663\"}],\"height\":300,\"left\":[{\"id\":\"1660\"}],\"margin\":[5,5,5,5],\"min_border_bottom\":10,\"min_border_left\":10,\"min_border_right\":10,\"min_border_top\":10,\"output_backend\":\"webgl\",\"renderers\":[{\"id\":\"1683\"}],\"sizing_mode\":\"fixed\",\"title\":{\"id\":\"1648\"},\"toolbar\":{\"id\":\"1670\"},\"width\":700,\"x_range\":{\"id\":\"1642\"},\"x_scale\":{\"id\":\"1654\"},\"y_range\":{\"id\":\"1643\"},\"y_scale\":{\"id\":\"1655\"}},\"id\":\"1647\",\"subtype\":\"Figure\",\"type\":\"Plot\"},{\"attributes\":{},\"id\":\"1657\",\"type\":\"BasicTicker\"},{\"attributes\":{\"axis\":{\"id\":\"1660\"},\"coordinates\":null,\"dimension\":1,\"grid_line_color\":null,\"group\":null,\"ticker\":null},\"id\":\"1663\",\"type\":\"Grid\"},{\"attributes\":{},\"id\":\"1661\",\"type\":\"BasicTicker\"},{\"attributes\":{},\"id\":\"1655\",\"type\":\"LinearScale\"}],\"root_ids\":[\"1641\"]},\"title\":\"Bokeh Application\",\"version\":\"2.4.3\"}};\n",
       "    var render_items = [{\"docid\":\"76e51745-f8df-4d32-9c19-5cd882be7982\",\"root_ids\":[\"1641\"],\"roots\":{\"1641\":\"4dd83994-26ae-4a54-922c-994db98bc2c9\"}}];\n",
       "    root.Bokeh.embed.embed_items_notebook(docs_json, render_items);\n",
       "    for (const render_item of render_items) {\n",
       "      for (const root_id of render_item.root_ids) {\n",
       "\tconst id_el = document.getElementById(root_id)\n",
       "\tif (id_el.children.length && (id_el.children[0].className === 'bk-root')) {\n",
       "\t  const root_el = id_el.children[0]\n",
       "\t  root_el.id = root_el.id + '-rendered'\n",
       "\t}\n",
       "      }\n",
       "    }\n",
       "  }\n",
       "  if (root.Bokeh !== undefined && root.Bokeh.Panel !== undefined) {\n",
       "    embed_document(root);\n",
       "  } else {\n",
       "    var attempts = 0;\n",
       "    var timer = setInterval(function(root) {\n",
       "      if (root.Bokeh !== undefined && root.Bokeh.Panel !== undefined) {\n",
       "        clearInterval(timer);\n",
       "        embed_document(root);\n",
       "      } else if (document.readyState == \"complete\") {\n",
       "        attempts++;\n",
       "        if (attempts > 200) {\n",
       "          clearInterval(timer);\n",
       "          console.log(\"Bokeh: ERROR: Unable to run BokehJS code because BokehJS library is missing\");\n",
       "        }\n",
       "      }\n",
       "    }, 25, root)\n",
       "  }\n",
       "})(window);</script>"
      ],
      "text/plain": [
       ":Scatter   [Run]   (elkan)"
      ]
     },
     "execution_count": 7,
     "metadata": {
      "application/vnd.holoviews_exec.v0+json": {
       "id": "1641"
      }
     },
     "output_type": "execute_result"
    }
   ],
   "source": [
    "data95=pd.read_csv(\"full_items_result_values_final\")\n",
    "data95.hvplot(x='Run', y=\"elkan\", kind='scatter')"
   ]
  },
  {
   "cell_type": "markdown",
   "metadata": {},
   "source": [
    "While the clustering here looks a little  better. The actual accuracy of the model ended up being  poor. \n",
    "\n",
    "![alt text](Final_clustering_after_SO_removed.png)"
   ]
  },
  {
   "cell_type": "code",
   "execution_count": null,
   "metadata": {},
   "outputs": [],
   "source": []
  }
 ],
 "metadata": {
  "kernelspec": {
   "display_name": "Python 3",
   "language": "python",
   "name": "python3"
  },
  "language_info": {
   "codemirror_mode": {
    "name": "ipython",
    "version": 3
   },
   "file_extension": ".py",
   "mimetype": "text/x-python",
   "name": "python",
   "nbconvert_exporter": "python",
   "pygments_lexer": "ipython3",
   "version": "3.11.4"
  },
  "orig_nbformat": 4
 },
 "nbformat": 4,
 "nbformat_minor": 2
}
